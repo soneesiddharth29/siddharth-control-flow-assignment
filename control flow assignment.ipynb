{
 "cells": [
  {
   "cell_type": "markdown",
   "id": "7e60ee07-6c61-4ba3-a869-399ce3cdf729",
   "metadata": {},
   "source": [
    "Basic if else statements \n",
    "\n",
    "q.1 Write a Python program to check if a given number is positive or negative."
   ]
  },
  {
   "cell_type": "code",
   "execution_count": 1,
   "id": "fb31b0c5-4b72-47c3-b1fe-28304f38adc2",
   "metadata": {},
   "outputs": [
    {
     "name": "stdin",
     "output_type": "stream",
     "text": [
      "Enter a number:  20\n"
     ]
    },
    {
     "name": "stdout",
     "output_type": "stream",
     "text": [
      "The number is positive.\n"
     ]
    }
   ],
   "source": [
    "# Get user input for the number\n",
    "number = float(input(\"Enter a number: \"))\n",
    "\n",
    "# Check if the number is positive, negative, or zero\n",
    "if number > 0:\n",
    "    print(\"The number is positive.\")\n",
    "elif number < 0:\n",
    "    print(\"The number is negative.\")\n",
    "else:\n",
    "    print(\"The number is zero.\")\n"
   ]
  },
  {
   "cell_type": "markdown",
   "id": "162a5475-e8e3-48ff-be61-6b8f8fcb41c9",
   "metadata": {},
   "source": [
    "q.2 Create a program that determines if a person is eligible to vote based on their age."
   ]
  },
  {
   "cell_type": "code",
   "execution_count": 3,
   "id": "25c20fe7-6db3-4274-9907-d445f894bc7f",
   "metadata": {},
   "outputs": [
    {
     "name": "stdin",
     "output_type": "stream",
     "text": [
      "Enter your age:  29\n"
     ]
    },
    {
     "name": "stdout",
     "output_type": "stream",
     "text": [
      "You are eligible to vote.\n"
     ]
    }
   ],
   "source": [
    "# Get the person's age as input\n",
    "age = int(input(\"Enter your age: \"))\n",
    "\n",
    "# Check if the person is eligible to vote\n",
    "if age >= 18:\n",
    "    print(\"You are eligible to vote.\")\n",
    "else:\n",
    "    print(\"You are not eligible to vote.\")\n"
   ]
  },
  {
   "cell_type": "markdown",
   "id": "270c1395-a0f0-4990-a9bf-4e4155384b84",
   "metadata": {},
   "source": [
    "q.3 Develop a program to find the maximum of two numbers using if-else statements."
   ]
  },
  {
   "cell_type": "code",
   "execution_count": 4,
   "id": "102f0543-a53d-459f-92cd-df838a1766da",
   "metadata": {},
   "outputs": [
    {
     "name": "stdin",
     "output_type": "stream",
     "text": [
      "Enter the first number:  29\n",
      "Enter the second number:  93\n"
     ]
    },
    {
     "name": "stdout",
     "output_type": "stream",
     "text": [
      "The maximum number is: 93.0\n"
     ]
    }
   ],
   "source": [
    "# Get two numbers as input from the user\n",
    "num1 = float(input(\"Enter the first number: \"))\n",
    "num2 = float(input(\"Enter the second number: \"))\n",
    "\n",
    "# Check which number is greater\n",
    "if num1 > num2:\n",
    "    max_num = num1\n",
    "else:\n",
    "    max_num = num2\n",
    "\n",
    "# Print the maximum number\n",
    "print(\"The maximum number is:\", max_num)\n"
   ]
  },
  {
   "cell_type": "markdown",
   "id": "9c0cafa8-5ed3-4bd0-ab96-7366090230b1",
   "metadata": {},
   "source": [
    "q.4 Write a Python script to classify a given year as a leap year or not."
   ]
  },
  {
   "cell_type": "code",
   "execution_count": 5,
   "id": "60284aa2-70d4-4d34-a358-ebf1dab842a0",
   "metadata": {},
   "outputs": [
    {
     "name": "stdin",
     "output_type": "stream",
     "text": [
      "Enter a year:  2022\n"
     ]
    },
    {
     "name": "stdout",
     "output_type": "stream",
     "text": [
      "2022 is not a leap year.\n"
     ]
    }
   ],
   "source": [
    "# Get the year as input from the user\n",
    "year = int(input(\"Enter a year: \"))\n",
    "\n",
    "# Check if it's a leap year\n",
    "if (year % 4 == 0 and year % 100 != 0) or (year % 400 == 0):\n",
    "    print(year, \"is a leap year.\")\n",
    "else:\n",
    "    print(year, \"is not a leap year.\")\n"
   ]
  },
  {
   "cell_type": "markdown",
   "id": "b03eb09a-473b-4e39-8b0a-10bc92a63842",
   "metadata": {},
   "source": [
    "q.5 Create a program that checks whether a character is a vowel or a consonant."
   ]
  },
  {
   "cell_type": "code",
   "execution_count": 8,
   "id": "4ca841a4-00b6-4c2d-8eeb-dcf345237089",
   "metadata": {},
   "outputs": [
    {
     "name": "stdin",
     "output_type": "stream",
     "text": [
      "Enter a character:  s\n"
     ]
    },
    {
     "name": "stdout",
     "output_type": "stream",
     "text": [
      "s is a consonant.\n"
     ]
    }
   ],
   "source": [
    "# Get a character as input from the user (assuming a single character is entered)\n",
    "character = input(\"Enter a character: \")\n",
    "\n",
    "# Convert the input to lowercase to handle both uppercase and lowercase characters\n",
    "character = character.lower()\n",
    "\n",
    "# Check if the character is a vowel or a consonant\n",
    "if character.isalpha() and len(character) == 1:\n",
    "    if character in 'aeiou':\n",
    "        print(character, \"is a vowel.\")\n",
    "    else:\n",
    "        print(character, \"is a consonant.\")\n",
    "else:\n",
    "    print(\"Invalid input. Please enter a single character.\")\n"
   ]
  },
  {
   "cell_type": "markdown",
   "id": "c3d5650e-af33-45cb-8c3c-e9d917bd5cea",
   "metadata": {},
   "source": [
    "q.6 Implement a program to determine whether a given number is even or odd."
   ]
  },
  {
   "cell_type": "code",
   "execution_count": 9,
   "id": "362975b9-2fea-48fb-8ab1-1b0005e9a231",
   "metadata": {},
   "outputs": [
    {
     "name": "stdin",
     "output_type": "stream",
     "text": [
      "Enter a number:  20\n"
     ]
    },
    {
     "name": "stdout",
     "output_type": "stream",
     "text": [
      "20 is even.\n"
     ]
    }
   ],
   "source": [
    "# Get a number as input from the user\n",
    "number = int(input(\"Enter a number: \"))\n",
    "\n",
    "# Check if the number is even or odd\n",
    "if number % 2 == 0:\n",
    "    print(number, \"is even.\")\n",
    "else:\n",
    "    print(number, \"is odd.\")\n"
   ]
  },
  {
   "cell_type": "markdown",
   "id": "3d7286b9-eb4b-47d7-ada7-da2e742bc29f",
   "metadata": {},
   "source": [
    "q.7 Write a Python function to calculate the absolute value of a number without using the `abs()` function."
   ]
  },
  {
   "cell_type": "code",
   "execution_count": 10,
   "id": "d1740ee8-d70c-4ae7-9fa0-d976726d44ed",
   "metadata": {},
   "outputs": [
    {
     "name": "stdin",
     "output_type": "stream",
     "text": [
      "Enter a number:  29\n"
     ]
    },
    {
     "name": "stdout",
     "output_type": "stream",
     "text": [
      "The absolute value is: 29.0\n"
     ]
    }
   ],
   "source": [
    "def absolute_value(number):\n",
    "    if number < 0:\n",
    "        return -number\n",
    "    else:\n",
    "        return number\n",
    "\n",
    "# Test the function\n",
    "num = float(input(\"Enter a number: \"))\n",
    "result = absolute_value(num)\n",
    "print(\"The absolute value is:\", result)\n"
   ]
  },
  {
   "cell_type": "markdown",
   "id": "5b578d25-e261-472c-9e25-ffa4ecd1a307",
   "metadata": {},
   "source": [
    "q.8 Develop a program that determines the largest of three given numbers using if-else statements."
   ]
  },
  {
   "cell_type": "code",
   "execution_count": 11,
   "id": "4d73d75f-b2db-4b04-a648-9d8e7e71d50d",
   "metadata": {},
   "outputs": [
    {
     "name": "stdin",
     "output_type": "stream",
     "text": [
      "Enter the first number:  29\n",
      "Enter the second number:  93\n",
      "Enter the third number:  129\n"
     ]
    },
    {
     "name": "stdout",
     "output_type": "stream",
     "text": [
      "The largest number is: 129.0\n"
     ]
    }
   ],
   "source": [
    "# Get three numbers as input from the user\n",
    "num1 = float(input(\"Enter the first number: \"))\n",
    "num2 = float(input(\"Enter the second number: \"))\n",
    "num3 = float(input(\"Enter the third number: \"))\n",
    "\n",
    "# Find the largest number using if-else statements\n",
    "if num1 >= num2 and num1 >= num3:\n",
    "    largest = num1\n",
    "elif num2 >= num1 and num2 >= num3:\n",
    "    largest = num2\n",
    "else:\n",
    "    largest = num3\n",
    "\n",
    "# Print the largest number\n",
    "print(\"The largest number is:\", largest)\n"
   ]
  },
  {
   "cell_type": "markdown",
   "id": "80175af0-60d8-4121-86bb-a896bd2905de",
   "metadata": {},
   "source": [
    "q.9 Create a program that checks if a given string is a palindrome."
   ]
  },
  {
   "cell_type": "code",
   "execution_count": 12,
   "id": "2b008b37-d1ec-4e9c-9075-2b11dfe57ef6",
   "metadata": {},
   "outputs": [
    {
     "name": "stdin",
     "output_type": "stream",
     "text": [
      "Enter a string:  29\n"
     ]
    },
    {
     "name": "stdout",
     "output_type": "stream",
     "text": [
      "The string is not a palindrome.\n"
     ]
    }
   ],
   "source": [
    "# Get a string as input from the user\n",
    "input_string = input(\"Enter a string: \")\n",
    "\n",
    "# Remove spaces and convert the input string to lowercase for case-insensitive comparison\n",
    "input_string = input_string.replace(\" \", \"\").lower()\n",
    "\n",
    "# Check if the string is a palindrome\n",
    "if input_string == input_string[::-1]:\n",
    "    print(\"The string is a palindrome.\")\n",
    "else:\n",
    "    print(\"The string is not a palindrome.\")\n"
   ]
  },
  {
   "cell_type": "markdown",
   "id": "a74a68c6-3049-4d7b-9187-41bbbe106792",
   "metadata": {},
   "source": [
    "q.10 Write a Python program to calculate the grade based on a student's score."
   ]
  },
  {
   "cell_type": "code",
   "execution_count": 14,
   "id": "aa445427-1d98-4f40-b3ee-95c3e7140b51",
   "metadata": {},
   "outputs": [
    {
     "name": "stdin",
     "output_type": "stream",
     "text": [
      "Enter the student's score:  80\n"
     ]
    },
    {
     "name": "stdout",
     "output_type": "stream",
     "text": [
      "The student's grade is: B\n"
     ]
    }
   ],
   "source": [
    "# Get the student's score as input\n",
    "score = float(input(\"Enter the student's score: \"))\n",
    "\n",
    "# Define grade ranges and associated letter grades\n",
    "A_score = 90\n",
    "B_score = 80\n",
    "C_score = 70\n",
    "D_score = 60\n",
    "\n",
    "# Determine the grade based on the score\n",
    "if score >= A_score:\n",
    "    grade = 'A'\n",
    "elif score >= B_score:\n",
    "    grade = 'B'\n",
    "elif score >= C_score:\n",
    "    grade = 'C'\n",
    "elif score >= D_score:\n",
    "    grade = 'D'\n",
    "else:\n",
    "    grade = 'F'\n",
    "\n",
    "# Print the calculated grade\n",
    "print(f\"The student's grade is: {grade}\")\n"
   ]
  },
  {
   "cell_type": "markdown",
   "id": "64745bc8-e99f-42b0-ab51-58bb980b2466",
   "metadata": {},
   "source": [
    "Nested if else statements \n",
    "\n",
    "q.11 Write a program to find the largest among three numbers using nested if-else statements."
   ]
  },
  {
   "cell_type": "code",
   "execution_count": 15,
   "id": "78cc58d5-c07a-4580-abe9-ea2e4bc68a90",
   "metadata": {},
   "outputs": [
    {
     "name": "stdin",
     "output_type": "stream",
     "text": [
      "Enter the first number:  20\n",
      "Enter the second number:  30\n",
      "Enter the third number:  40\n"
     ]
    },
    {
     "name": "stdout",
     "output_type": "stream",
     "text": [
      "The largest number is: 40.0\n"
     ]
    }
   ],
   "source": [
    "# Get three numbers as input from the user\n",
    "num1 = float(input(\"Enter the first number: \"))\n",
    "num2 = float(input(\"Enter the second number: \"))\n",
    "num3 = float(input(\"Enter the third number: \"))\n",
    "\n",
    "# Find the largest number using nested if-else statements\n",
    "if num1 >= num2:\n",
    "    if num1 >= num3:\n",
    "        largest = num1\n",
    "    else:\n",
    "        largest = num3\n",
    "else:\n",
    "    if num2 >= num3:\n",
    "        largest = num2\n",
    "    else:\n",
    "        largest = num3\n",
    "\n",
    "# Print the largest number\n",
    "print(\"The largest number is:\", largest)\n"
   ]
  },
  {
   "cell_type": "markdown",
   "id": "7feb880a-a605-4819-907a-a6fc8b04dad4",
   "metadata": {},
   "source": [
    "q.12 Implement a program to determine if a triangle is equilateral, isosceles, or scalene."
   ]
  },
  {
   "cell_type": "code",
   "execution_count": 16,
   "id": "79cabee9-7fb0-4a83-8a2c-97c6b889e025",
   "metadata": {},
   "outputs": [
    {
     "name": "stdin",
     "output_type": "stream",
     "text": [
      "Enter the length of the first side:  5\n",
      "Enter the length of the second side:  12\n",
      "Enter the length of the third side:  13\n"
     ]
    },
    {
     "name": "stdout",
     "output_type": "stream",
     "text": [
      "It's a scalene triangle.\n"
     ]
    }
   ],
   "source": [
    "# Get the lengths of the three sides of the triangle from the user\n",
    "side1 = float(input(\"Enter the length of the first side: \"))\n",
    "side2 = float(input(\"Enter the length of the second side: \"))\n",
    "side3 = float(input(\"Enter the length of the third side: \"))\n",
    "\n",
    "# Check if it's a valid triangle\n",
    "if side1 + side2 > side3 and side1 + side3 > side2 and side2 + side3 > side1:\n",
    "    # Check if it's equilateral\n",
    "    if side1 == side2 == side3:\n",
    "        triangle_type = \"equilateral\"\n",
    "    # Check if it's isosceles\n",
    "    elif side1 == side2 or side1 == side3 or side2 == side3:\n",
    "        triangle_type = \"isosceles\"\n",
    "    # If it's not equilateral or isosceles, it must be scalene\n",
    "    else:\n",
    "        triangle_type = \"scalene\"\n",
    "else:\n",
    "    triangle_type = \"invalid\"\n",
    "\n",
    "# Print the type of triangle\n",
    "if triangle_type == \"invalid\":\n",
    "    print(\"It's not a valid triangle.\")\n",
    "else:\n",
    "    print(f\"It's a {triangle_type} triangle.\")\n"
   ]
  },
  {
   "cell_type": "markdown",
   "id": "d18f13b9-9018-4542-819e-af942563aa7a",
   "metadata": {},
   "source": [
    "q.13 Develop a program that checks if a year is a leap year and also if it is a century year."
   ]
  },
  {
   "cell_type": "code",
   "execution_count": 17,
   "id": "9f321f1b-a9b1-44e9-b352-ffb1115ff303",
   "metadata": {},
   "outputs": [
    {
     "name": "stdin",
     "output_type": "stream",
     "text": [
      "Enter a year:  2022\n"
     ]
    },
    {
     "name": "stdout",
     "output_type": "stream",
     "text": [
      "2022 is not a leap year.\n"
     ]
    }
   ],
   "source": [
    "# Get the year as input from the user\n",
    "year = int(input(\"Enter a year: \"))\n",
    "\n",
    "# Check if it's a leap year\n",
    "is_leap_year = False\n",
    "\n",
    "if (year % 4 == 0 and year % 100 != 0) or (year % 400 == 0):\n",
    "    is_leap_year = True\n",
    "\n",
    "# Check if it's a century year\n",
    "is_century_year = year % 100 == 0\n",
    "\n",
    "# Print the results\n",
    "if is_leap_year:\n",
    "    if is_century_year:\n",
    "        print(f\"{year} is a leap year and a century year.\")\n",
    "    else:\n",
    "        print(f\"{year} is a leap year but not a century year.\")\n",
    "else:\n",
    "    print(f\"{year} is not a leap year.\")\n"
   ]
  },
  {
   "cell_type": "markdown",
   "id": "fd2878e3-c372-47e7-9dce-9eb0aa0ffa4b",
   "metadata": {},
   "source": [
    "q.14 Write a Python script to determine if a number is positive, negative, or zero."
   ]
  },
  {
   "cell_type": "code",
   "execution_count": 18,
   "id": "31f6e0a9-b4a3-41e6-be62-36e077e9406f",
   "metadata": {},
   "outputs": [
    {
     "name": "stdin",
     "output_type": "stream",
     "text": [
      "Enter a number:  29\n"
     ]
    },
    {
     "name": "stdout",
     "output_type": "stream",
     "text": [
      "The number is positive.\n"
     ]
    }
   ],
   "source": [
    "# Get the number as input from the user\n",
    "number = float(input(\"Enter a number: \"))\n",
    "\n",
    "# Check if the number is positive, negative, or zero\n",
    "if number > 0:\n",
    "    print(\"The number is positive.\")\n",
    "elif number < 0:\n",
    "    print(\"The number is negative.\")\n",
    "else:\n",
    "    print(\"The number is zero.\")\n"
   ]
  },
  {
   "cell_type": "markdown",
   "id": "8e158960-01b2-4993-a773-2ff1c87ffe59",
   "metadata": {},
   "source": [
    "q.15 Create a program to check if a person is a teenager (between 13 and 19 years old)."
   ]
  },
  {
   "cell_type": "code",
   "execution_count": 19,
   "id": "a2af6de1-dc41-4aa3-a438-308295a738d0",
   "metadata": {},
   "outputs": [
    {
     "name": "stdin",
     "output_type": "stream",
     "text": [
      "Enter your age:  18\n"
     ]
    },
    {
     "name": "stdout",
     "output_type": "stream",
     "text": [
      "You are a teenager.\n"
     ]
    }
   ],
   "source": [
    "# Get the person's age as input\n",
    "age = int(input(\"Enter your age: \"))\n",
    "\n",
    "# Check if the age is in the teenager range (between 13 and 19)\n",
    "if 13 <= age <= 19:\n",
    "    print(\"You are a teenager.\")\n",
    "else:\n",
    "    print(\"You are not a teenager.\")\n"
   ]
  },
  {
   "cell_type": "markdown",
   "id": "59c6886b-f2d6-406e-a6aa-9993b1dca7c0",
   "metadata": {},
   "source": [
    "q.16 Develop a program that determines the type of angle based on its measure (acute, obtuse, or right)."
   ]
  },
  {
   "cell_type": "code",
   "execution_count": 20,
   "id": "3ba6de18-9a2a-40e5-9d77-abddb752aa4a",
   "metadata": {},
   "outputs": [
    {
     "name": "stdin",
     "output_type": "stream",
     "text": [
      "Enter the angle measure in degrees:  45\n"
     ]
    },
    {
     "name": "stdout",
     "output_type": "stream",
     "text": [
      "The angle is acute.\n"
     ]
    }
   ],
   "source": [
    "# Get the angle measure as input from the user\n",
    "angle_measure = float(input(\"Enter the angle measure in degrees: \"))\n",
    "\n",
    "# Check the type of angle\n",
    "if angle_measure < 90:\n",
    "    angle_type = \"acute\"\n",
    "elif angle_measure == 90:\n",
    "    angle_type = \"right\"\n",
    "else:\n",
    "    angle_type = \"obtuse\"\n",
    "\n",
    "# Print the type of angle\n",
    "print(f\"The angle is {angle_type}.\")\n"
   ]
  },
  {
   "cell_type": "markdown",
   "id": "ae6c76a0-454d-43b9-ae5b-b5befbb49d77",
   "metadata": {},
   "source": [
    "q.17 Write a Python program to calculate the roots of a quadratic equation."
   ]
  },
  {
   "cell_type": "code",
   "execution_count": 21,
   "id": "99b67415-7f2f-4538-8a72-1f8729233f48",
   "metadata": {},
   "outputs": [
    {
     "name": "stdin",
     "output_type": "stream",
     "text": [
      "Enter the coefficient of x^2 (a):  16\n",
      "Enter the coefficient of x (b):  20\n",
      "Enter the constant term (c):  10\n"
     ]
    },
    {
     "name": "stdout",
     "output_type": "stream",
     "text": [
      "The equation has two complex roots:\n",
      "Root 1: -0.625 + 0.4841229182759271 i\n",
      "Root 2: -0.625 - 0.4841229182759271 i\n"
     ]
    }
   ],
   "source": [
    "import math\n",
    "\n",
    "# Get the coefficients of the quadratic equation from the user\n",
    "a = float(input(\"Enter the coefficient of x^2 (a): \"))\n",
    "b = float(input(\"Enter the coefficient of x (b): \"))\n",
    "c = float(input(\"Enter the constant term (c): \"))\n",
    "\n",
    "# Calculate the discriminant (the value inside the square root)\n",
    "discriminant = b**2 - 4*a*c\n",
    "\n",
    "# Check the nature of the roots\n",
    "if discriminant > 0:\n",
    "    root1 = (-b + math.sqrt(discriminant)) / (2*a)\n",
    "    root2 = (-b - math.sqrt(discriminant)) / (2*a)\n",
    "    print(\"The equation has two real and distinct roots:\")\n",
    "    print(\"Root 1:\", root1)\n",
    "    print(\"Root 2:\", root2)\n",
    "elif discriminant == 0:\n",
    "    root1 = -b / (2*a)\n",
    "    print(\"The equation has one real root:\")\n",
    "    print(\"Root:\", root1)\n",
    "else:\n",
    "    real_part = -b / (2*a)\n",
    "    imaginary_part = math.sqrt(-discriminant) / (2*a)\n",
    "    print(\"The equation has two complex roots:\")\n",
    "    print(\"Root 1:\", real_part, \"+\", imaginary_part, \"i\")\n",
    "    print(\"Root 2:\", real_part, \"-\", imaginary_part, \"i\")\n"
   ]
  },
  {
   "cell_type": "markdown",
   "id": "5c97dd6b-a475-4f91-b6c2-e333f5ef68b0",
   "metadata": {},
   "source": [
    "q.18 Implement a program to determine the day of the week based on a user-provided number (1 for Monday, 2\n",
    "for Tuesday, etc.)."
   ]
  },
  {
   "cell_type": "code",
   "execution_count": 22,
   "id": "39042478-6930-4244-a089-2a2d7c35640d",
   "metadata": {},
   "outputs": [
    {
     "name": "stdin",
     "output_type": "stream",
     "text": [
      "Enter a number (1 for Monday, 2 for Tuesday, etc.):  5\n"
     ]
    },
    {
     "name": "stdout",
     "output_type": "stream",
     "text": [
      "The day of the week is: Friday\n"
     ]
    }
   ],
   "source": [
    "# Get a number as input from the user\n",
    "day_number = int(input(\"Enter a number (1 for Monday, 2 for Tuesday, etc.): \"))\n",
    "\n",
    "# Define a list of days of the week\n",
    "days_of_week = [\"Monday\", \"Tuesday\", \"Wednesday\", \"Thursday\", \"Friday\", \"Saturday\", \"Sunday\"]\n",
    "\n",
    "# Check if the input number is within a valid range\n",
    "if 1 <= day_number <= 7:\n",
    "    # Subtract 1 from the input number to access the correct index in the list\n",
    "    day_name = days_of_week[day_number - 1]\n",
    "    print(\"The day of the week is:\", day_name)\n",
    "else:\n",
    "    print(\"Invalid input. Please enter a number between 1 and 7.\")\n"
   ]
  },
  {
   "cell_type": "markdown",
   "id": "476e0237-1179-434f-9b01-a83e761f7258",
   "metadata": {},
   "source": [
    "q.19 Create a program that determines if a year is a leap year and also if it is evenly divisible by 400."
   ]
  },
  {
   "cell_type": "code",
   "execution_count": 23,
   "id": "8093ef86-ce6a-495f-a13c-a1209137de7b",
   "metadata": {},
   "outputs": [
    {
     "name": "stdin",
     "output_type": "stream",
     "text": [
      "Enter a year:  2022\n"
     ]
    },
    {
     "name": "stdout",
     "output_type": "stream",
     "text": [
      "2022 is not a leap year.\n"
     ]
    }
   ],
   "source": [
    "# Get the year as input from the user\n",
    "year = int(input(\"Enter a year: \"))\n",
    "\n",
    "# Check if it's a leap year and evenly divisible by 400\n",
    "is_leap_year = False\n",
    "is_divisible_by_400 = False\n",
    "\n",
    "if year % 4 == 0:\n",
    "    is_leap_year = True\n",
    "    if year % 100 == 0 and year % 400 != 0:\n",
    "        is_leap_year = False\n",
    "    elif year % 400 == 0:\n",
    "        is_divisible_by_400 = True\n",
    "\n",
    "# Print the results\n",
    "if is_leap_year:\n",
    "    print(f\"{year} is a leap year.\")\n",
    "    if is_divisible_by_400:\n",
    "        print(f\"{year} is also evenly divisible by 400.\")\n",
    "    else:\n",
    "        print(f\"{year} is not evenly divisible by 400.\")\n",
    "else:\n",
    "    print(f\"{year} is not a leap year.\")\n"
   ]
  },
  {
   "cell_type": "markdown",
   "id": "c0161f55-45a2-4674-a410-c474c412e3a3",
   "metadata": {},
   "source": [
    "q.20 Develop a program that checks if a given number is prime or not using nested if-else statements."
   ]
  },
  {
   "cell_type": "code",
   "execution_count": 24,
   "id": "9ce94c5c-820e-4295-97f7-f1ded06129fd",
   "metadata": {},
   "outputs": [
    {
     "name": "stdin",
     "output_type": "stream",
     "text": [
      "Enter a number:  29\n"
     ]
    },
    {
     "name": "stdout",
     "output_type": "stream",
     "text": [
      "29 is a prime number.\n"
     ]
    }
   ],
   "source": [
    "# Get a number as input from the user\n",
    "num = int(input(\"Enter a number: \"))\n",
    "\n",
    "# Check if the number is less than 2 (not prime)\n",
    "if num < 2:\n",
    "    is_prime = False\n",
    "else:\n",
    "    is_prime = True\n",
    "\n",
    "    # Check for factors from 2 to the square root of the number\n",
    "    for i in range(2, int(num**0.5) + 1):\n",
    "        if num % i == 0:\n",
    "            is_prime = False\n",
    "            break\n",
    "\n",
    "# Print the result\n",
    "if is_prime:\n",
    "    print(num, \"is a prime number.\")\n",
    "else:\n",
    "    print(num, \"is not a prime number.\")\n"
   ]
  },
  {
   "cell_type": "markdown",
   "id": "5535021f-93dc-48e8-a3b6-87a605eacf4f",
   "metadata": {},
   "source": [
    "Elif statements \n",
    "\n",
    "q.21 Write a Python program to assign grades based on different ranges of scores using elif statements."
   ]
  },
  {
   "cell_type": "code",
   "execution_count": 25,
   "id": "8f55bfec-9372-4298-ba1f-76c519e0257b",
   "metadata": {},
   "outputs": [
    {
     "name": "stdin",
     "output_type": "stream",
     "text": [
      "Enter the student's score:  80\n"
     ]
    },
    {
     "name": "stdout",
     "output_type": "stream",
     "text": [
      "The student's grade is: B\n"
     ]
    }
   ],
   "source": [
    "# Get the student's score as input\n",
    "score = float(input(\"Enter the student's score: \"))\n",
    "\n",
    "# Assign grades based on score ranges using elif statements\n",
    "if 90 <= score <= 100:\n",
    "    grade = 'A'\n",
    "elif 80 <= score < 90:\n",
    "    grade = 'B'\n",
    "elif 70 <= score < 80:\n",
    "    grade = 'C'\n",
    "elif 60 <= score < 70:\n",
    "    grade = 'D'\n",
    "else:\n",
    "    grade = 'F'\n",
    "\n",
    "# Print the assigned grade\n",
    "print(f\"The student's grade is: {grade}\")\n"
   ]
  },
  {
   "cell_type": "markdown",
   "id": "6b5f499b-f77c-478b-8a95-77d5b78ba373",
   "metadata": {},
   "source": [
    "q.22 Implement a program to determine the type of a triangle based on its angles."
   ]
  },
  {
   "cell_type": "code",
   "execution_count": 26,
   "id": "02e41265-9f05-43df-896b-57a14833de46",
   "metadata": {},
   "outputs": [
    {
     "name": "stdin",
     "output_type": "stream",
     "text": [
      "Enter the first angle in degrees:  5\n",
      "Enter the second angle in degrees:  12\n",
      "Enter the third angle in degrees:  13\n"
     ]
    },
    {
     "name": "stdout",
     "output_type": "stream",
     "text": [
      "Invalid triangle: The angles do not add up to 180 degrees.\n"
     ]
    }
   ],
   "source": [
    "# Get the angles of the triangle from the user\n",
    "angle1 = float(input(\"Enter the first angle in degrees: \"))\n",
    "angle2 = float(input(\"Enter the second angle in degrees: \"))\n",
    "angle3 = float(input(\"Enter the third angle in degrees: \"))\n",
    "\n",
    "# Check the type of triangle based on its angles\n",
    "if angle1 + angle2 + angle3 == 180:\n",
    "    if angle1 < 90 and angle2 < 90 and angle3 < 90:\n",
    "        triangle_type = \"acute\"\n",
    "    elif angle1 == 90 or angle2 == 90 or angle3 == 90:\n",
    "        triangle_type = \"right\"\n",
    "    else:\n",
    "        triangle_type = \"obtuse\"\n",
    "    print(f\"The triangle is {triangle_type}.\")\n",
    "else:\n",
    "    print(\"Invalid triangle: The angles do not add up to 180 degrees.\")\n"
   ]
  },
  {
   "cell_type": "markdown",
   "id": "23630f83-112d-44cf-af64-eea2b7b14bc4",
   "metadata": {},
   "source": [
    "q.23 Develop a program to categorize a given person's BMI into underweight, normal, overweight, or obese using\n",
    "elif statements."
   ]
  },
  {
   "cell_type": "code",
   "execution_count": 27,
   "id": "441a7376-f3a0-4ba1-92b3-117bc35715b1",
   "metadata": {},
   "outputs": [
    {
     "name": "stdin",
     "output_type": "stream",
     "text": [
      "Enter your weight in kilograms:  983\n",
      "Enter your height in meters:  800\n"
     ]
    },
    {
     "name": "stdout",
     "output_type": "stream",
     "text": [
      "Your BMI is 0.00, which falls into the underweight category.\n"
     ]
    }
   ],
   "source": [
    "# Get the person's weight (in kilograms) and height (in meters) as input\n",
    "weight = float(input(\"Enter your weight in kilograms: \"))\n",
    "height = float(input(\"Enter your height in meters: \"))\n",
    "\n",
    "# Calculate BMI (Body Mass Index)\n",
    "bmi = weight / (height * height)\n",
    "\n",
    "# Categorize BMI using elif statements\n",
    "if bmi < 18.5:\n",
    "    category = \"underweight\"\n",
    "elif 18.5 <= bmi < 24.9:\n",
    "    category = \"normal\"\n",
    "elif 24.9 <= bmi < 29.9:\n",
    "    category = \"overweight\"\n",
    "else:\n",
    "    category = \"obese\"\n",
    "\n",
    "# Print the BMI category\n",
    "print(f\"Your BMI is {bmi:.2f}, which falls into the {category} category.\")\n"
   ]
  },
  {
   "cell_type": "markdown",
   "id": "ea7df470-be16-441d-b555-46045691cee0",
   "metadata": {},
   "source": [
    "q.24 Create a program that determines whether a given number is positive, negative, or zero using elif\n",
    "statements."
   ]
  },
  {
   "cell_type": "code",
   "execution_count": 28,
   "id": "fd0d3b77-1933-4ad5-a3a5-7019247e2baf",
   "metadata": {},
   "outputs": [
    {
     "name": "stdin",
     "output_type": "stream",
     "text": [
      "Enter a number:  29\n"
     ]
    },
    {
     "name": "stdout",
     "output_type": "stream",
     "text": [
      "The number is positive.\n"
     ]
    }
   ],
   "source": [
    "# Get the number as input from the user\n",
    "number = float(input(\"Enter a number: \"))\n",
    "\n",
    "# Determine if the number is positive, negative, or zero using elif statements\n",
    "if number > 0:\n",
    "    print(\"The number is positive.\")\n",
    "elif number < 0:\n",
    "    print(\"The number is negative.\")\n",
    "else:\n",
    "    print(\"The number is zero.\")\n",
    "\n",
    "    "
   ]
  },
  {
   "cell_type": "markdown",
   "id": "fdfd0b1c-50a9-4fd2-9880-48944051863d",
   "metadata": {},
   "source": [
    "q.25 Write a Python script to determine the type of a character (uppercase, lowercase, or special) using elif\n",
    "statements."
   ]
  },
  {
   "cell_type": "code",
   "execution_count": 29,
   "id": "629a54e6-6e44-4548-af29-99fd8282a2ae",
   "metadata": {},
   "outputs": [
    {
     "name": "stdin",
     "output_type": "stream",
     "text": [
      "Enter a character:  siddharth \n"
     ]
    },
    {
     "name": "stdout",
     "output_type": "stream",
     "text": [
      "The character 'siddharth ' is a special character.\n"
     ]
    }
   ],
   "source": [
    "# Get a character as input from the user\n",
    "char = input(\"Enter a character: \")\n",
    "\n",
    "# Check the type of character using elif statements\n",
    "if char.isalpha():\n",
    "    if char.islower():\n",
    "        char_type = \"lowercase\"\n",
    "    elif char.isupper():\n",
    "        char_type = \"uppercase\"\n",
    "else:\n",
    "    char_type = \"special\"\n",
    "\n",
    "# Print the type of character\n",
    "if char_type == \"special\":\n",
    "    print(f\"The character '{char}' is a special character.\")\n",
    "else:\n",
    "    print(f\"The character '{char}' is {char_type}.\")\n"
   ]
  },
  {
   "cell_type": "markdown",
   "id": "e185af0a-b327-487e-b25e-210cdcac1831",
   "metadata": {},
   "source": [
    "q.26 Implement a program to calculate the discounted price based on different purchase amounts using elif\n",
    "statements."
   ]
  },
  {
   "cell_type": "code",
   "execution_count": 30,
   "id": "cdf49144-42fd-4223-a7c8-d05fdd384119",
   "metadata": {},
   "outputs": [
    {
     "name": "stdin",
     "output_type": "stream",
     "text": [
      "Enter the purchase amount:  1500\n"
     ]
    },
    {
     "name": "stdout",
     "output_type": "stream",
     "text": [
      "Discounted Price: $1275.00\n"
     ]
    }
   ],
   "source": [
    "# Get the purchase amount from the user\n",
    "purchase_amount = float(input(\"Enter the purchase amount: \"))\n",
    "\n",
    "# Initialize variables for discounts\n",
    "discount = 0.0\n",
    "discounted_price = 0.0\n",
    "\n",
    "# Calculate the discount based on the purchase amount using elif statements\n",
    "if purchase_amount < 100:\n",
    "    discount = 0.0  # No discount\n",
    "elif purchase_amount < 500:\n",
    "    discount = 0.05  # 5% discount for purchases between 100 and 499.99\n",
    "elif purchase_amount < 1000:\n",
    "    discount = 0.1   # 10% discount for purchases between 500 and 999.99\n",
    "else:\n",
    "    discount = 0.15  # 15% discount for purchases of 1000 or more\n",
    "\n",
    "# Calculate the discounted price\n",
    "discounted_price = purchase_amount - (purchase_amount * discount)\n",
    "\n",
    "# Print the discounted price\n",
    "print(f\"Discounted Price: ${discounted_price:.2f}\")\n"
   ]
  },
  {
   "cell_type": "markdown",
   "id": "7f5fa9ee-cae2-455d-bab8-fb37558f5b28",
   "metadata": {},
   "source": [
    "q.27 Develop a program to calculate the electricity bill based on different consumption slabs using elif\n",
    "statements."
   ]
  },
  {
   "cell_type": "code",
   "execution_count": 31,
   "id": "180d7fb4-882e-4716-8124-44fa4ba50fba",
   "metadata": {},
   "outputs": [
    {
     "name": "stdin",
     "output_type": "stream",
     "text": [
      "Enter the electricity consumption in kilowatt-hours:  20\n"
     ]
    },
    {
     "name": "stdout",
     "output_type": "stream",
     "text": [
      "Electricity Bill: $2.00\n"
     ]
    }
   ],
   "source": [
    "# Get the electricity consumption in kilowatt-hours from the user\n",
    "consumption = float(input(\"Enter the electricity consumption in kilowatt-hours: \"))\n",
    "\n",
    "# Initialize variables for rates and total bill\n",
    "rate1 = 0.10  # Rate for the first 100 kWh\n",
    "rate2 = 0.15  # Rate for the next 200 kWh\n",
    "rate3 = 0.20  # Rate for consumption over 300 kWh\n",
    "total_bill = 0.0\n",
    "\n",
    "# Calculate the electricity bill based on consumption using elif statements\n",
    "if consumption <= 100:\n",
    "    total_bill = consumption * rate1\n",
    "elif consumption <= 300:\n",
    "    total_bill = (100 * rate1) + ((consumption - 100) * rate2)\n",
    "else:\n",
    "    total_bill = (100 * rate1) + (200 * rate2) + ((consumption - 300) * rate3)\n",
    "\n",
    "# Print the electricity bill\n",
    "print(f\"Electricity Bill: ${total_bill:.2f}\")\n"
   ]
  },
  {
   "cell_type": "markdown",
   "id": "3fe6ee27-351f-4452-af21-19559a99f95a",
   "metadata": {},
   "source": [
    "q.28 Create a program to determine the type of quadrilateral based on its angles and sides using elif\n",
    "statements."
   ]
  },
  {
   "cell_type": "code",
   "execution_count": 32,
   "id": "06936689-24e8-411f-870a-f57937216313",
   "metadata": {},
   "outputs": [
    {
     "name": "stdin",
     "output_type": "stream",
     "text": [
      "Enter the first angle in degrees:  5\n",
      "Enter the second angle in degrees:  12\n",
      "Enter the third angle in degrees:  13\n",
      "Enter the fourth angle in degrees:  45\n",
      "Enter the length of the first side:  75\n",
      "Enter the length of the second side:  100\n",
      "Enter the length of the third side:  180\n",
      "Enter the length of the fourth side:  270\n"
     ]
    },
    {
     "name": "stdout",
     "output_type": "stream",
     "text": [
      "The quadrilateral is a general quadrilateral.\n"
     ]
    }
   ],
   "source": [
    "# Get the angles and sides of the quadrilateral from the user\n",
    "angle1 = float(input(\"Enter the first angle in degrees: \"))\n",
    "angle2 = float(input(\"Enter the second angle in degrees: \"))\n",
    "angle3 = float(input(\"Enter the third angle in degrees: \"))\n",
    "angle4 = float(input(\"Enter the fourth angle in degrees: \"))\n",
    "side1 = float(input(\"Enter the length of the first side: \"))\n",
    "side2 = float(input(\"Enter the length of the second side: \"))\n",
    "side3 = float(input(\"Enter the length of the third side: \"))\n",
    "side4 = float(input(\"Enter the length of the fourth side: \"))\n",
    "\n",
    "# Check the type of quadrilateral using elif statements\n",
    "if angle1 == angle2 == angle3 == angle4 == 90:\n",
    "    if side1 == side2 == side3 == side4:\n",
    "        quadrilateral_type = \"square\"\n",
    "    elif side1 == side3 and side2 == side4:\n",
    "        quadrilateral_type = \"rectangle\"\n",
    "    else:\n",
    "        quadrilateral_type = \"parallelogram\"\n",
    "elif angle1 == angle2 == angle3 == angle4:\n",
    "    if side1 == side2 == side3 == side4:\n",
    "        quadrilateral_type = \"rhombus\"\n",
    "    else:\n",
    "        quadrilateral_type = \"general quadrilateral\"\n",
    "else:\n",
    "    quadrilateral_type = \"general quadrilateral\"\n",
    "\n",
    "# Print the type of quadrilateral\n",
    "print(f\"The quadrilateral is a {quadrilateral_type}.\")\n"
   ]
  },
  {
   "cell_type": "markdown",
   "id": "226e0b7c-facb-418f-ac89-5cbe0fb21251",
   "metadata": {},
   "source": [
    "q.29 Write a Python script to determine the season based on a user-provided month using elif statements."
   ]
  },
  {
   "cell_type": "code",
   "execution_count": 33,
   "id": "147dbf45-a43d-48fe-9aa4-d02a4bc82a96",
   "metadata": {},
   "outputs": [
    {
     "name": "stdin",
     "output_type": "stream",
     "text": [
      "Enter a month (e.g., January, February, etc.):  september\n"
     ]
    },
    {
     "name": "stdout",
     "output_type": "stream",
     "text": [
      "The season in September is fall.\n"
     ]
    }
   ],
   "source": [
    "# Get the month as input from the user\n",
    "month = input(\"Enter a month (e.g., January, February, etc.): \")\n",
    "\n",
    "# Convert the month to lowercase for case-insensitive comparison\n",
    "month = month.lower()\n",
    "\n",
    "# Determine the season using elif statements\n",
    "if month in [\"december\", \"january\", \"february\"]:\n",
    "    season = \"winter\"\n",
    "elif month in [\"march\", \"april\", \"may\"]:\n",
    "    season = \"spring\"\n",
    "elif month in [\"june\", \"july\", \"august\"]:\n",
    "    season = \"summer\"\n",
    "elif month in [\"september\", \"october\", \"november\"]:\n",
    "    season = \"fall\"\n",
    "else:\n",
    "    season = \"unknown\"\n",
    "\n",
    "# Print the determined season\n",
    "if season != \"unknown\":\n",
    "    print(f\"The season in {month.capitalize()} is {season}.\")\n",
    "else:\n",
    "    print(\"Unknown month. Please enter a valid month name.\")\n"
   ]
  },
  {
   "cell_type": "markdown",
   "id": "4ddc542d-e4a0-4533-889c-05ff09a67c13",
   "metadata": {},
   "source": [
    "q.30 Implement a program to determine the type of a year (leap or common) and month (30 or 31 days) using\n",
    "elif statements."
   ]
  },
  {
   "cell_type": "code",
   "execution_count": 35,
   "id": "136af2c4-bb79-4f63-bbe7-2ef11188c1d6",
   "metadata": {},
   "outputs": [
    {
     "name": "stdin",
     "output_type": "stream",
     "text": [
      "Enter a year:  2022\n",
      "Enter a month (1-12):  9\n"
     ]
    },
    {
     "name": "stdout",
     "output_type": "stream",
     "text": [
      "2022 is a common year.\n",
      "The month 9 has 30 days.\n"
     ]
    }
   ],
   "source": [
    "# Get the year and month from the user\n",
    "year = int(input(\"Enter a year: \"))\n",
    "month = int(input(\"Enter a month (1-12): \"))\n",
    "\n",
    "# Determine if it's a leap year or common year using elif statements\n",
    "if (year % 4 == 0 and year % 100 != 0) or (year % 400 == 0):\n",
    "    year_type = \"leap\"\n",
    "else:\n",
    "    year_type = \"common\"\n",
    "\n",
    "# Determine the number of days in the month using elif statements\n",
    "if month == 2:\n",
    "    if year_type == \"leap\":\n",
    "        days = 29\n",
    "    else:\n",
    "        days = 28\n",
    "elif month in [4, 6, 9, 11]:\n",
    "    days = 30\n",
    "else:\n",
    "    days = 31\n",
    "\n",
    "# Print the results\n",
    "print(f\"{year} is a {year_type} year.\")\n",
    "print(f\"The month {month} has {days} days.\")\n"
   ]
  },
  {
   "cell_type": "markdown",
   "id": "425ed829-d33f-4bc1-b1be-764ac0443b06",
   "metadata": {},
   "source": [
    "Assignment question \n",
    "\n",
    "q.1 Write a Python program that checks if a given number is positive, negative, or zero."
   ]
  },
  {
   "cell_type": "code",
   "execution_count": 36,
   "id": "9a976688-a2f1-45fa-81c8-e2933104f004",
   "metadata": {},
   "outputs": [
    {
     "name": "stdin",
     "output_type": "stream",
     "text": [
      "Enter a number:  29\n"
     ]
    },
    {
     "name": "stdout",
     "output_type": "stream",
     "text": [
      "The number is positive.\n"
     ]
    }
   ],
   "source": [
    "# Get the number as input from the user\n",
    "number = float(input(\"Enter a number: \"))\n",
    "\n",
    "# Check if the number is positive, negative, or zero\n",
    "if number > 0:\n",
    "    print(\"The number is positive.\")\n",
    "elif number < 0:\n",
    "    print(\"The number is negative.\")\n",
    "else:\n",
    "    print(\"The number is zero.\")\n"
   ]
  },
  {
   "cell_type": "markdown",
   "id": "25b128af-be1e-4830-be68-0973335ba1a8",
   "metadata": {},
   "source": [
    "q.2 Create a program to determine if a person is eligible to vote based on their age."
   ]
  },
  {
   "cell_type": "code",
   "execution_count": 37,
   "id": "62e94b44-98a9-419a-bd08-44ddc78de6c4",
   "metadata": {},
   "outputs": [
    {
     "name": "stdin",
     "output_type": "stream",
     "text": [
      "Enter your age:  29\n"
     ]
    },
    {
     "name": "stdout",
     "output_type": "stream",
     "text": [
      "You are eligible to vote.\n"
     ]
    }
   ],
   "source": [
    "# Get the age as input from the user\n",
    "age = int(input(\"Enter your age: \"))\n",
    "\n",
    "# Check if the person is eligible to vote\n",
    "if age >= 18:\n",
    "    print(\"You are eligible to vote.\")\n",
    "else:\n",
    "    print(\"You are not eligible to vote.\")\n"
   ]
  },
  {
   "cell_type": "markdown",
   "id": "60bf44b1-0b3c-4d0f-8b71-273669c48982",
   "metadata": {},
   "source": [
    "q.3 Write a program to find the maximum of two given numbers using conditional statements."
   ]
  },
  {
   "cell_type": "code",
   "execution_count": 2,
   "id": "624db91b-3b70-4610-9918-4290deb85c90",
   "metadata": {},
   "outputs": [
    {
     "name": "stdin",
     "output_type": "stream",
     "text": [
      "Enter the first number:  29\n",
      "Enter the second number:  93\n"
     ]
    },
    {
     "name": "stdout",
     "output_type": "stream",
     "text": [
      "The maximum number is: 93.0\n"
     ]
    }
   ],
   "source": [
    "# Get user input for the two numbers\n",
    "num1 = float(input(\"Enter the first number: \"))\n",
    "num2 = float(input(\"Enter the second number: \"))\n",
    "\n",
    "# Check which number is greater\n",
    "if num1 > num2:\n",
    "    max_num = num1\n",
    "else:\n",
    "    max_num = num2\n",
    "\n",
    "# Print the maximum number\n",
    "print(\"The maximum number is:\", max_num)\n"
   ]
  },
  {
   "cell_type": "markdown",
   "id": "23fc6126-83ca-413e-9cd4-5a6b5a72845c",
   "metadata": {},
   "source": [
    "q.4 Develop a program that calculates the grade of a student based on their exam score."
   ]
  },
  {
   "cell_type": "code",
   "execution_count": 3,
   "id": "71006d2c-8bdf-4c03-ac3f-4df4d62495cb",
   "metadata": {},
   "outputs": [
    {
     "name": "stdin",
     "output_type": "stream",
     "text": [
      "Enter the exam score:  80\n"
     ]
    },
    {
     "name": "stdout",
     "output_type": "stream",
     "text": [
      "The student's grade is: B\n"
     ]
    }
   ],
   "source": [
    "# Get user input for the exam score\n",
    "exam_score = float(input(\"Enter the exam score: \"))\n",
    "\n",
    "# Define grade boundaries and assign grades\n",
    "if exam_score >= 90:\n",
    "    grade = \"A\"\n",
    "elif exam_score >= 80:\n",
    "    grade = \"B\"\n",
    "elif exam_score >= 70:\n",
    "    grade = \"C\"\n",
    "elif exam_score >= 60:\n",
    "    grade = \"D\"\n",
    "else:\n",
    "    grade = \"F\"\n",
    "\n",
    "# Print the calculated grade\n",
    "print(f\"The student's grade is: {grade}\")\n"
   ]
  },
  {
   "cell_type": "markdown",
   "id": "c1c45f28-620e-468c-96b8-5494a0ef273c",
   "metadata": {},
   "source": [
    "q.5 Create a program that checks if a year is a leap year or not."
   ]
  },
  {
   "cell_type": "code",
   "execution_count": 4,
   "id": "8bfdc429-7d93-481c-ba16-813ffb87717a",
   "metadata": {},
   "outputs": [
    {
     "name": "stdin",
     "output_type": "stream",
     "text": [
      "Enter a year:  2024\n"
     ]
    },
    {
     "name": "stdout",
     "output_type": "stream",
     "text": [
      "2024 is a leap year.\n"
     ]
    }
   ],
   "source": [
    "# Get user input for the year\n",
    "year = int(input(\"Enter a year: \"))\n",
    "\n",
    "# Check if it's a leap year\n",
    "if (year % 4 == 0 and year % 100 != 0) or (year % 400 == 0):\n",
    "    print(f\"{year} is a leap year.\")\n",
    "else:\n",
    "    print(f\"{year} is not a leap year.\")\n"
   ]
  },
  {
   "cell_type": "markdown",
   "id": "7c240a9a-5bf6-40b3-bcdb-64a87ca08bbf",
   "metadata": {},
   "source": [
    "q.6 Write a program to classify a triangle based on its sides' lengths."
   ]
  },
  {
   "cell_type": "code",
   "execution_count": 5,
   "id": "d10545a3-f362-4bd0-bd43-4bec623071c2",
   "metadata": {},
   "outputs": [
    {
     "name": "stdin",
     "output_type": "stream",
     "text": [
      "Enter the length of the first side:  7\n",
      "Enter the length of the second side:  12\n",
      "Enter the length of the third side:  15\n"
     ]
    },
    {
     "name": "stdout",
     "output_type": "stream",
     "text": [
      "The triangle is Scalene.\n"
     ]
    }
   ],
   "source": [
    "# Get user input for the lengths of the three sides of the triangle\n",
    "side1 = float(input(\"Enter the length of the first side: \"))\n",
    "side2 = float(input(\"Enter the length of the second side: \"))\n",
    "side3 = float(input(\"Enter the length of the third side: \"))\n",
    "\n",
    "# Check the type of triangle\n",
    "if side1 == side2 == side3:\n",
    "    triangle_type = \"Equilateral\"\n",
    "elif side1 == side2 or side1 == side3 or side2 == side3:\n",
    "    triangle_type = \"Isosceles\"\n",
    "else:\n",
    "    triangle_type = \"Scalene\"\n",
    "\n",
    "# Print the triangle type\n",
    "print(f\"The triangle is {triangle_type}.\")\n"
   ]
  },
  {
   "cell_type": "markdown",
   "id": "c88deec4-dc57-4c4e-9603-ed23219cf181",
   "metadata": {},
   "source": [
    "q.7 Build a program that determines the largest of three given numbers."
   ]
  },
  {
   "cell_type": "code",
   "execution_count": 6,
   "id": "2465d05b-18fb-4a69-93fe-80e595956629",
   "metadata": {},
   "outputs": [
    {
     "name": "stdin",
     "output_type": "stream",
     "text": [
      "Enter the first number:  10\n",
      "Enter the second number:  20\n",
      "Enter the third number:  50\n"
     ]
    },
    {
     "name": "stdout",
     "output_type": "stream",
     "text": [
      "The largest number is: 50.0\n"
     ]
    }
   ],
   "source": [
    "# Get user input for the three numbers\n",
    "num1 = float(input(\"Enter the first number: \"))\n",
    "num2 = float(input(\"Enter the second number: \"))\n",
    "num3 = float(input(\"Enter the third number: \"))\n",
    "\n",
    "# Initialize a variable to store the largest number\n",
    "largest = num1\n",
    "\n",
    "# Check which number is the largest\n",
    "if num2 > largest:\n",
    "    largest = num2\n",
    "if num3 > largest:\n",
    "    largest = num3\n",
    "\n",
    "# Print the largest number\n",
    "print(\"The largest number is:\", largest)\n"
   ]
  },
  {
   "cell_type": "markdown",
   "id": "3ad69b55-83b6-420a-9588-7bc7ca7505c1",
   "metadata": {},
   "source": [
    "q.8 Develop a program that checks whether a character is a vowel or a consonant."
   ]
  },
  {
   "cell_type": "code",
   "execution_count": 7,
   "id": "68b6424e-42fa-442b-a3fb-2849b96c8281",
   "metadata": {},
   "outputs": [
    {
     "name": "stdin",
     "output_type": "stream",
     "text": [
      "Enter a single character:  s\n"
     ]
    },
    {
     "name": "stdout",
     "output_type": "stream",
     "text": [
      "s is a consonant.\n"
     ]
    }
   ],
   "source": [
    "# Get user input for a single character\n",
    "char = input(\"Enter a single character: \")\n",
    "\n",
    "# Ensure the input is a single character\n",
    "if len(char) != 1:\n",
    "    print(\"Please enter only one character.\")\n",
    "else:\n",
    "    # Convert the character to lowercase to handle uppercase input\n",
    "    char = char.lower()\n",
    "\n",
    "    # Check if the character is a vowel or a consonant\n",
    "    if char in 'aeiou':\n",
    "        print(f\"{char} is a vowel.\")\n",
    "    else:\n",
    "        print(f\"{char} is a consonant.\")\n"
   ]
  },
  {
   "cell_type": "markdown",
   "id": "727d816f-0251-4aaf-b0f2-04ccb04fb40c",
   "metadata": {},
   "source": [
    "q.9 Create a program to calculate the total cost of a shopping cart based on discounts."
   ]
  },
  {
   "cell_type": "code",
   "execution_count": 8,
   "id": "0eea3af9-c7a9-48a7-a271-542f4a2e3ecb",
   "metadata": {},
   "outputs": [
    {
     "name": "stdin",
     "output_type": "stream",
     "text": [
      "Enter an item to add to the cart (or 'done' to finish):  1500\n"
     ]
    },
    {
     "name": "stdout",
     "output_type": "stream",
     "text": [
      "Item not found in the store. Please enter a valid item.\n"
     ]
    },
    {
     "name": "stdin",
     "output_type": "stream",
     "text": [
      "Enter an item to add to the cart (or 'done' to finish):  1000\n"
     ]
    },
    {
     "name": "stdout",
     "output_type": "stream",
     "text": [
      "Item not found in the store. Please enter a valid item.\n"
     ]
    },
    {
     "name": "stdin",
     "output_type": "stream",
     "text": [
      "Enter an item to add to the cart (or 'done' to finish):  500\n"
     ]
    },
    {
     "name": "stdout",
     "output_type": "stream",
     "text": [
      "Item not found in the store. Please enter a valid item.\n"
     ]
    },
    {
     "name": "stdin",
     "output_type": "stream",
     "text": [
      "Enter an item to add to the cart (or 'done' to finish):  0\n"
     ]
    },
    {
     "name": "stdout",
     "output_type": "stream",
     "text": [
      "Item not found in the store. Please enter a valid item.\n"
     ]
    },
    {
     "name": "stdin",
     "output_type": "stream",
     "text": [
      "Enter an item to add to the cart (or 'done' to finish):  100\n"
     ]
    },
    {
     "name": "stdout",
     "output_type": "stream",
     "text": [
      "Item not found in the store. Please enter a valid item.\n"
     ]
    },
    {
     "name": "stdin",
     "output_type": "stream",
     "text": [
      "Enter an item to add to the cart (or 'done' to finish):  3000\n"
     ]
    },
    {
     "name": "stdout",
     "output_type": "stream",
     "text": [
      "Item not found in the store. Please enter a valid item.\n"
     ]
    },
    {
     "name": "stdin",
     "output_type": "stream",
     "text": [
      "Enter an item to add to the cart (or 'done' to finish):  500\n"
     ]
    },
    {
     "name": "stdout",
     "output_type": "stream",
     "text": [
      "Item not found in the store. Please enter a valid item.\n"
     ]
    },
    {
     "name": "stdin",
     "output_type": "stream",
     "text": [
      "Enter an item to add to the cart (or 'done' to finish):  1000\n"
     ]
    },
    {
     "name": "stdout",
     "output_type": "stream",
     "text": [
      "Item not found in the store. Please enter a valid item.\n"
     ]
    },
    {
     "name": "stdin",
     "output_type": "stream",
     "text": [
      "Enter an item to add to the cart (or 'done' to finish):  5000\n"
     ]
    },
    {
     "name": "stdout",
     "output_type": "stream",
     "text": [
      "Item not found in the store. Please enter a valid item.\n"
     ]
    },
    {
     "name": "stdin",
     "output_type": "stream",
     "text": [
      "Enter an item to add to the cart (or 'done' to finish):  \n"
     ]
    },
    {
     "name": "stdout",
     "output_type": "stream",
     "text": [
      "Item not found in the store. Please enter a valid item.\n"
     ]
    },
    {
     "name": "stdin",
     "output_type": "stream",
     "text": [
      "Enter an item to add to the cart (or 'done' to finish):  done\n"
     ]
    },
    {
     "name": "stdout",
     "output_type": "stream",
     "text": [
      "Total cost of your shopping cart: $0.00\n"
     ]
    }
   ],
   "source": [
    "# Define the items and their prices in a dictionary\n",
    "items = {\n",
    "    \"item1\": 10.00,\n",
    "    \"item2\": 15.00,\n",
    "    \"item3\": 5.00,\n",
    "    \"item4\": 20.00,\n",
    "    # Add more items and prices as needed\n",
    "}\n",
    "\n",
    "# Define discount rules in a dictionary (item_name: (discount_threshold, discount_percentage))\n",
    "discounts = {\n",
    "    \"item1\": (5, 10),  # 10% discount if 5 or more item1 are purchased\n",
    "    \"item2\": (3, 5),   # 5% discount if 3 or more item2 are purchased\n",
    "    # Add more discount rules as needed\n",
    "}\n",
    "\n",
    "# Initialize the shopping cart as an empty dictionary\n",
    "shopping_cart = {}\n",
    "\n",
    "# Add items to the shopping cart\n",
    "while True:\n",
    "    item = input(\"Enter an item to add to the cart (or 'done' to finish): \").lower()\n",
    "    if item == \"done\":\n",
    "        break\n",
    "    elif item in items:\n",
    "        quantity = int(input(f\"Enter the quantity of {item}: \"))\n",
    "        if item in shopping_cart:\n",
    "            shopping_cart[item] += quantity\n",
    "        else:\n",
    "            shopping_cart[item] = quantity\n",
    "    else:\n",
    "        print(\"Item not found in the store. Please enter a valid item.\")\n",
    "\n",
    "# Calculate the total cost including discounts\n",
    "total_cost = 0.0\n",
    "\n",
    "for item, quantity in shopping_cart.items():\n",
    "    if item in discounts and quantity >= discounts[item][0]:\n",
    "        discounted_price = items[item] * (1 - discounts[item][1] / 100)\n",
    "        total_cost += discounted_price * quantity\n",
    "    else:\n",
    "        total_cost += items[item] * quantity\n",
    "\n",
    "# Print the total cost\n",
    "print(f\"Total cost of your shopping cart: ${total_cost:.2f}\")\n"
   ]
  },
  {
   "cell_type": "markdown",
   "id": "77566d8e-3f69-4b74-a510-0ed36a63b7a6",
   "metadata": {},
   "source": [
    "q.10 Write a program that checks if a given number is even or odd."
   ]
  },
  {
   "cell_type": "code",
   "execution_count": 9,
   "id": "baef1eb0-e063-4136-852b-18f28ffd7ae2",
   "metadata": {},
   "outputs": [
    {
     "name": "stdin",
     "output_type": "stream",
     "text": [
      "Enter a number:  29\n"
     ]
    },
    {
     "name": "stdout",
     "output_type": "stream",
     "text": [
      "29 is odd.\n"
     ]
    }
   ],
   "source": [
    "# Get user input for the number\n",
    "number = int(input(\"Enter a number: \"))\n",
    "\n",
    "# Check if the number is even or odd\n",
    "if number % 2 == 0:\n",
    "    print(f\"{number} is even.\")\n",
    "else:\n",
    "    print(f\"{number} is odd.\")\n"
   ]
  },
  {
   "cell_type": "markdown",
   "id": "9b8faf68-ea87-4787-9688-25308c34b9f2",
   "metadata": {},
   "source": [
    "q.11 Write a program that calculates the roots of a quadratic equation"
   ]
  },
  {
   "cell_type": "code",
   "execution_count": 10,
   "id": "54169ef4-21c1-4793-909a-275485950cdf",
   "metadata": {},
   "outputs": [
    {
     "name": "stdin",
     "output_type": "stream",
     "text": [
      "Enter the coefficient 'a':  12\n",
      "Enter the coefficient 'b':  15\n",
      "Enter the coefficient 'c':  10\n"
     ]
    },
    {
     "name": "stdout",
     "output_type": "stream",
     "text": [
      "The roots are complex: -0.625 + 0.6653633092779713i and -0.625 - 0.6653633092779713i\n"
     ]
    }
   ],
   "source": [
    "import math\n",
    "\n",
    "# Get user input for the coefficients of the quadratic equation\n",
    "a = float(input(\"Enter the coefficient 'a': \"))\n",
    "b = float(input(\"Enter the coefficient 'b': \"))\n",
    "c = float(input(\"Enter the coefficient 'c': \"))\n",
    "\n",
    "# Calculate the discriminant\n",
    "discriminant = b**2 - 4*a*c\n",
    "\n",
    "# Check if the discriminant is positive, zero, or negative\n",
    "if discriminant > 0:\n",
    "    # Two real and distinct roots\n",
    "    root1 = (-b + math.sqrt(discriminant)) / (2*a)\n",
    "    root2 = (-b - math.sqrt(discriminant)) / (2*a)\n",
    "    print(f\"The roots are real and distinct: {root1} and {root2}\")\n",
    "elif discriminant == 0:\n",
    "    # One real root (repeated)\n",
    "    root = -b / (2*a)\n",
    "    print(f\"The root is real and repeated: {root}\")\n",
    "else:\n",
    "    # Complex roots\n",
    "    real_part = -b / (2*a)\n",
    "    imaginary_part = math.sqrt(abs(discriminant)) / (2*a)\n",
    "    print(f\"The roots are complex: {real_part} + {imaginary_part}i and {real_part} - {imaginary_part}i\")\n"
   ]
  },
  {
   "cell_type": "markdown",
   "id": "0cb37cdc-0600-4bba-ac93-0958946a1c83",
   "metadata": {},
   "source": [
    "q.12 Create a program that determines the day of the week based on the day number (1-7)."
   ]
  },
  {
   "cell_type": "code",
   "execution_count": 12,
   "id": "3bba21d3-510d-4012-9034-08f5520bf955",
   "metadata": {},
   "outputs": [
    {
     "name": "stdin",
     "output_type": "stream",
     "text": [
      "Enter a day number (1-7):  2\n"
     ]
    },
    {
     "name": "stdout",
     "output_type": "stream",
     "text": [
      "The day of the week for day number 2 is Tuesday.\n"
     ]
    }
   ],
   "source": [
    "# Define a dictionary to map day numbers to day names\n",
    "day_number_to_name = {\n",
    "    1: \"Monday\",\n",
    "    2: \"Tuesday\",\n",
    "    3: \"Wednesday\",\n",
    "    4: \"Thursday\",\n",
    "    5: \"Friday\",\n",
    "    6: \"Saturday\",\n",
    "    7: \"Sunday\"\n",
    "}\n",
    "\n",
    "# Get user input for the day number (1-7)\n",
    "day_number = int(input(\"Enter a day number (1-7): \"))\n",
    "\n",
    "# Check if the input is within the valid range\n",
    "if day_number < 1 or day_number > 7:\n",
    "    print(\"Invalid day number. Please enter a number between 1 and 7.\")\n",
    "else:\n",
    "    # Retrieve the corresponding day name from the dictionary\n",
    "    day_name = day_number_to_name[day_number]\n",
    "    print(f\"The day of the week for day number {day_number} is {day_name}.\")\n"
   ]
  },
  {
   "cell_type": "markdown",
   "id": "e1550175-c1b7-47f0-870e-ec0a2524e2b2",
   "metadata": {},
   "source": [
    "q.13 Develop a program that calculates the factorial of a given number using recursion."
   ]
  },
  {
   "cell_type": "code",
   "execution_count": 13,
   "id": "8e9a9936-decd-470e-8a2b-2fb38d705712",
   "metadata": {},
   "outputs": [
    {
     "name": "stdin",
     "output_type": "stream",
     "text": [
      "Enter a non-negative integer:  5\n"
     ]
    },
    {
     "name": "stdout",
     "output_type": "stream",
     "text": [
      "The factorial of 5 is 120\n"
     ]
    }
   ],
   "source": [
    "# Define a function to calculate the factorial recursively\n",
    "def factorial(n):\n",
    "    if n == 0:\n",
    "        return 1\n",
    "    else:\n",
    "        return n * factorial(n - 1)\n",
    "\n",
    "# Get user input for the number\n",
    "num = int(input(\"Enter a non-negative integer: \"))\n",
    "\n",
    "# Check if the input is a non-negative integer\n",
    "if num < 0:\n",
    "    print(\"Please enter a non-negative integer.\")\n",
    "else:\n",
    "    result = factorial(num)\n",
    "    print(f\"The factorial of {num} is {result}\")\n"
   ]
  },
  {
   "cell_type": "markdown",
   "id": "26705619-fe0e-48d5-9b6b-afc5ea867967",
   "metadata": {},
   "source": [
    "q.14 Write a program to find the largest among three numbers without using the `max()` function."
   ]
  },
  {
   "cell_type": "code",
   "execution_count": 14,
   "id": "6e54f9d4-4092-4043-9998-84d2acd9bab6",
   "metadata": {},
   "outputs": [
    {
     "name": "stdin",
     "output_type": "stream",
     "text": [
      "Enter the first number:  12\n",
      "Enter the second number:  15\n",
      "Enter the third number:  10\n"
     ]
    },
    {
     "name": "stdout",
     "output_type": "stream",
     "text": [
      "The largest number is: 15.0\n"
     ]
    }
   ],
   "source": [
    "# Get user input for three numbers\n",
    "num1 = float(input(\"Enter the first number: \"))\n",
    "num2 = float(input(\"Enter the second number: \"))\n",
    "num3 = float(input(\"Enter the third number: \"))\n",
    "\n",
    "# Initialize a variable to store the largest number\n",
    "largest = num1\n",
    "\n",
    "# Compare the numbers to find the largest\n",
    "if num2 > largest:\n",
    "    largest = num2\n",
    "if num3 > largest:\n",
    "    largest = num3\n",
    "\n",
    "# Print the largest number\n",
    "print(\"The largest number is:\", largest)\n"
   ]
  },
  {
   "cell_type": "markdown",
   "id": "cab329bb-fa21-4ea4-9993-dea793d99802",
   "metadata": {},
   "source": [
    "q.15 Create a program that simulates a basic ATM transaction menu."
   ]
  },
  {
   "cell_type": "code",
   "execution_count": 15,
   "id": "c25ffcbb-e01f-4b87-9d6e-18a19512bda8",
   "metadata": {},
   "outputs": [
    {
     "name": "stdout",
     "output_type": "stream",
     "text": [
      "\n",
      "ATM Transaction Menu:\n",
      "1. Check Balance\n",
      "2. Deposit Money\n",
      "3. Withdraw Money\n",
      "4. Exit\n"
     ]
    },
    {
     "name": "stdin",
     "output_type": "stream",
     "text": [
      "Enter your choice (1/2/3/4):  3\n",
      "Enter the amount to withdraw:  1000\n"
     ]
    },
    {
     "name": "stdout",
     "output_type": "stream",
     "text": [
      "$1000.00 has been withdrawn from your account.\n",
      "\n",
      "ATM Transaction Menu:\n",
      "1. Check Balance\n",
      "2. Deposit Money\n",
      "3. Withdraw Money\n",
      "4. Exit\n"
     ]
    },
    {
     "name": "stdin",
     "output_type": "stream",
     "text": [
      "Enter your choice (1/2/3/4):  4\n"
     ]
    },
    {
     "name": "stdout",
     "output_type": "stream",
     "text": [
      "Thank you for using the ATM. Have a nice day!\n"
     ]
    }
   ],
   "source": [
    "# Initialize the account balance\n",
    "balance = 1000\n",
    "\n",
    "# Display the ATM transaction menu in a loop\n",
    "while True:\n",
    "    print(\"\\nATM Transaction Menu:\")\n",
    "    print(\"1. Check Balance\")\n",
    "    print(\"2. Deposit Money\")\n",
    "    print(\"3. Withdraw Money\")\n",
    "    print(\"4. Exit\")\n",
    "\n",
    "    # Get the user's choice\n",
    "    choice = input(\"Enter your choice (1/2/3/4): \")\n",
    "\n",
    "    # Check the user's choice\n",
    "    if choice == \"1\":\n",
    "        print(f\"Your account balance is ${balance:.2f}\")\n",
    "    elif choice == \"2\":\n",
    "        amount = float(input(\"Enter the amount to deposit: \"))\n",
    "        balance += amount\n",
    "        print(f\"${amount:.2f} has been deposited into your account.\")\n",
    "    elif choice == \"3\":\n",
    "        amount = float(input(\"Enter the amount to withdraw: \"))\n",
    "        if amount <= balance:\n",
    "            balance -= amount\n",
    "            print(f\"${amount:.2f} has been withdrawn from your account.\")\n",
    "        else:\n",
    "            print(\"Insufficient funds. Please enter a valid amount.\")\n",
    "    elif choice == \"4\":\n",
    "        print(\"Thank you for using the ATM. Have a nice day!\")\n",
    "        break\n",
    "    else:\n",
    "        print(\"Invalid choice. Please select a valid option.\")\n"
   ]
  },
  {
   "cell_type": "markdown",
   "id": "bc3212e2-66e5-41ae-b5a5-1f4944d8b8da",
   "metadata": {},
   "source": [
    "q.16 Build a program that checks if a given string is a palindrome or not."
   ]
  },
  {
   "cell_type": "code",
   "execution_count": 16,
   "id": "421414c0-3bda-4705-adf9-ae3c34dd98c8",
   "metadata": {},
   "outputs": [
    {
     "name": "stdin",
     "output_type": "stream",
     "text": [
      "Enter a string:  siddharth\n"
     ]
    },
    {
     "name": "stdout",
     "output_type": "stream",
     "text": [
      "'siddharth' is not a palindrome.\n"
     ]
    }
   ],
   "source": [
    "def is_palindrome(input_string):\n",
    "    # Remove spaces and convert to lowercase for case-insensitive comparison\n",
    "    cleaned_string = input_string.replace(\" \", \"\").lower()\n",
    "    # Check if the cleaned string is equal to its reverse\n",
    "    return cleaned_string == cleaned_string[::-1]\n",
    "\n",
    "# Get user input for the string to check\n",
    "user_input = input(\"Enter a string: \")\n",
    "\n",
    "# Check if the input string is a palindrome\n",
    "if is_palindrome(user_input):\n",
    "    print(f\"'{user_input}' is a palindrome.\")\n",
    "else:\n",
    "    print(f\"'{user_input}' is not a palindrome.\")\n"
   ]
  },
  {
   "cell_type": "markdown",
   "id": "5be5f86d-14d0-4030-946f-b9e525c1ceea",
   "metadata": {},
   "source": [
    "q.17 Write a program that calculates the average of a list of numbers, excluding the smallest and largest values."
   ]
  },
  {
   "cell_type": "code",
   "execution_count": 17,
   "id": "2af3e3d7-1a4a-409e-af46-08ca9c084f2f",
   "metadata": {},
   "outputs": [
    {
     "name": "stdin",
     "output_type": "stream",
     "text": [
      "Enter a list of numbers separated by commas:  5,6,12\n"
     ]
    },
    {
     "name": "stdout",
     "output_type": "stream",
     "text": [
      "The average (excluding smallest and largest) is: 6.00\n"
     ]
    }
   ],
   "source": [
    "# Function to calculate the average excluding the smallest and largest values\n",
    "def calculate_average(numbers):\n",
    "    if len(numbers) <= 2:\n",
    "        return 0  # There are not enough values to calculate an average\n",
    "\n",
    "    # Sort the list in ascending order\n",
    "    sorted_numbers = sorted(numbers)\n",
    "\n",
    "    # Exclude the smallest and largest values\n",
    "    trimmed_numbers = sorted_numbers[1:-1]\n",
    "\n",
    "    # Calculate the average of the remaining values\n",
    "    average = sum(trimmed_numbers) / len(trimmed_numbers)\n",
    "    return average\n",
    "\n",
    "# Get user input for a list of numbers (comma-separated)\n",
    "input_numbers = input(\"Enter a list of numbers separated by commas: \")\n",
    "\n",
    "# Split the input string into a list of numbers\n",
    "numbers = [float(x.strip()) for x in input_numbers.split(\",\")]\n",
    "\n",
    "# Calculate the average excluding the smallest and largest values\n",
    "result = calculate_average(numbers)\n",
    "\n",
    "# Display the result\n",
    "print(f\"The average (excluding smallest and largest) is: {result:.2f}\")\n"
   ]
  },
  {
   "cell_type": "markdown",
   "id": "81773ef1-b848-48e6-af2a-31b4ac964d34",
   "metadata": {},
   "source": [
    "q.18 Develop a program that converts a given temperature from Celsius to Fahrenheit."
   ]
  },
  {
   "cell_type": "code",
   "execution_count": 18,
   "id": "4fe9b89c-6918-40b6-b825-2851e09f4f7e",
   "metadata": {},
   "outputs": [
    {
     "name": "stdin",
     "output_type": "stream",
     "text": [
      "Enter the temperature in Celsius:  27\n"
     ]
    },
    {
     "name": "stdout",
     "output_type": "stream",
     "text": [
      "The temperature in Fahrenheit is: 80.60°F\n"
     ]
    }
   ],
   "source": [
    "# Get user input for the temperature in Celsius\n",
    "celsius = float(input(\"Enter the temperature in Celsius: \"))\n",
    "\n",
    "# Convert Celsius to Fahrenheit\n",
    "fahrenheit = (celsius * 9/5) + 32\n",
    "\n",
    "# Display the converted temperature in Fahrenheit\n",
    "print(f\"The temperature in Fahrenheit is: {fahrenheit:.2f}°F\")\n"
   ]
  },
  {
   "cell_type": "markdown",
   "id": "a6dc2705-3eed-4348-85ef-b73e205e5488",
   "metadata": {},
   "source": [
    "q.19 Create a program that simulates a basic calculator for addition, subtraction, multiplication, and division."
   ]
  },
  {
   "cell_type": "code",
   "execution_count": 19,
   "id": "f696639f-97be-4cce-bf2b-00e2a989284f",
   "metadata": {},
   "outputs": [
    {
     "name": "stdout",
     "output_type": "stream",
     "text": [
      "Select operation:\n",
      "1. Addition\n",
      "2. Subtraction\n",
      "3. Multiplication\n",
      "4. Division\n"
     ]
    },
    {
     "name": "stdin",
     "output_type": "stream",
     "text": [
      "Enter choice (1/2/3/4):  4\n",
      "Enter first number:  5000\n",
      "Enter second number:  20\n"
     ]
    },
    {
     "name": "stdout",
     "output_type": "stream",
     "text": [
      "5000.0 / 20.0 = 250.0\n"
     ]
    }
   ],
   "source": [
    "# Function to perform addition\n",
    "def add(x, y):\n",
    "    return x + y\n",
    "\n",
    "# Function to perform subtraction\n",
    "def subtract(x, y):\n",
    "    return x - y\n",
    "\n",
    "# Function to perform multiplication\n",
    "def multiply(x, y):\n",
    "    return x * y\n",
    "\n",
    "# Function to perform division\n",
    "def divide(x, y):\n",
    "    if y == 0:\n",
    "        return \"Cannot divide by zero\"\n",
    "    return x / y\n",
    "\n",
    "# Display the calculator menu\n",
    "print(\"Select operation:\")\n",
    "print(\"1. Addition\")\n",
    "print(\"2. Subtraction\")\n",
    "print(\"3. Multiplication\")\n",
    "print(\"4. Division\")\n",
    "\n",
    "# Get user input for the operation choice\n",
    "choice = input(\"Enter choice (1/2/3/4): \")\n",
    "\n",
    "# Get user input for the numbers\n",
    "num1 = float(input(\"Enter first number: \"))\n",
    "num2 = float(input(\"Enter second number: \"))\n",
    "\n",
    "# Perform the selected operation\n",
    "if choice == '1':\n",
    "    result = add(num1, num2)\n",
    "    operator = '+'\n",
    "elif choice == '2':\n",
    "    result = subtract(num1, num2)\n",
    "    operator = '-'\n",
    "elif choice == '3':\n",
    "    result = multiply(num1, num2)\n",
    "    operator = '*'\n",
    "elif choice == '4':\n",
    "    result = divide(num1, num2)\n",
    "    operator = '/'\n",
    "else:\n",
    "    result = \"Invalid input\"\n",
    "    operator = ''\n",
    "\n",
    "# Display the result\n",
    "if operator:\n",
    "    print(f\"{num1} {operator} {num2} = {result}\")\n",
    "else:\n",
    "    print(result)\n"
   ]
  },
  {
   "cell_type": "markdown",
   "id": "e30ceba6-597d-43dd-84c1-8fa3522fa315",
   "metadata": {},
   "source": [
    "q.20 Write a program that determines the roots of a cubic equation using the Cardano formula."
   ]
  },
  {
   "cell_type": "code",
   "execution_count": 20,
   "id": "a9bad96f-df86-4f57-9e36-26524317843e",
   "metadata": {},
   "outputs": [
    {
     "name": "stdin",
     "output_type": "stream",
     "text": [
      "Enter the coefficient of x^3 (a):  5\n",
      "Enter the coefficient of x^2 (b):  8\n",
      "Enter the coefficient of x (c):  9\n",
      "Enter the constant term (d):  10\n"
     ]
    },
    {
     "name": "stdout",
     "output_type": "stream",
     "text": [
      "The roots of the cubic equation are:\n",
      "Root: 0.305870+0.961000j\n",
      "Root: -0.952935-0.480500j\n",
      "Root: -0.234229-0.832251j\n",
      "Root: -0.234229-0.832251j\n"
     ]
    }
   ],
   "source": [
    "import math\n",
    "\n",
    "# Function to calculate the roots of a cubic equation using Cardano's method\n",
    "def cubic_roots(a, b, c, d):\n",
    "    # Calculate the coefficients of the depressed cubic equation\n",
    "    p = (3 * a * c - b**2) / (3 * a**2)\n",
    "    q = (2 * b**3 - 9 * a * b * c + 27 * a**2 * d) / (27 * a**3)\n",
    "\n",
    "    # Calculate the discriminant\n",
    "    discriminant = (q/2)**2 + (p/3)**3\n",
    "\n",
    "    # Check the discriminant for cases\n",
    "    if discriminant > 0:\n",
    "        u = (-q/2 + discriminant**0.5)**(1/3)\n",
    "        v = (-q/2 - discriminant**0.5)**(1/3)\n",
    "        real_root = u + v\n",
    "        imaginary_root = (u - v) * (3**0.5) / 2\n",
    "        return [real_root - b / (3 * a), -0.5 * real_root - b / (3 * a), imaginary_root, imaginary_root]\n",
    "    elif discriminant == 0:\n",
    "        if q < 0:\n",
    "            u = (-q/2)**(1/3)\n",
    "            return [2 * u - b / (3 * a), -u - b / (3 * a), -u - b / (3 * a)]\n",
    "        else:\n",
    "            u = (-q/2)**(1/3)\n",
    "            return [u - b / (3 * a), -2 * u - b / (3 * a)]\n",
    "    else:\n",
    "        rho = ((q/2)**2 + (-p/3)**3)**0.5\n",
    "        theta = math.atan2((-rho), (-q/2))\n",
    "        r = ((-p/3)**2)**0.5\n",
    "        real_part = 2 * r**(1/3) * math.cos(theta/3)\n",
    "        imaginary_part = 2 * r**(1/3) * math.sin(theta/3)\n",
    "        return [real_part - b / (3 * a), -(real_part + imaginary_part) - b / (3 * a), -(real_part - imaginary_part) - b / (3 * a)]\n",
    "\n",
    "# Get user input for coefficients\n",
    "a = float(input(\"Enter the coefficient of x^3 (a): \"))\n",
    "b = float(input(\"Enter the coefficient of x^2 (b): \"))\n",
    "c = float(input(\"Enter the coefficient of x (c): \"))\n",
    "d = float(input(\"Enter the constant term (d): \"))\n",
    "\n",
    "# Calculate and display the roots\n",
    "roots = cubic_roots(a, b, c, d)\n",
    "print(\"The roots of the cubic equation are:\")\n",
    "for root in roots:\n",
    "    print(f\"Root: {root:.6f}\")\n"
   ]
  },
  {
   "cell_type": "markdown",
   "id": "1c6d502a-be95-4246-8147-df854403265b",
   "metadata": {},
   "source": [
    "q.21 Create a program that calculates the income tax based on the user's income and tax brackets."
   ]
  },
  {
   "cell_type": "code",
   "execution_count": 21,
   "id": "80616316-eaad-4d88-bf23-9bab32fba1a5",
   "metadata": {},
   "outputs": [
    {
     "name": "stdin",
     "output_type": "stream",
     "text": [
      "Enter your taxable income:  50000\n"
     ]
    },
    {
     "name": "stdout",
     "output_type": "stream",
     "text": [
      "Your income tax is: $5802.50\n"
     ]
    }
   ],
   "source": [
    "# Define tax brackets and their corresponding tax rates\n",
    "tax_brackets = [\n",
    "    (9875, 0.10),    # 10% on income up to $9,875\n",
    "    (40125, 0.12),   # 12% on income up to $40,125\n",
    "    (85525, 0.22),   # 22% on income up to $85,525\n",
    "    (163300, 0.24),  # 24% on income up to $163,300\n",
    "    (207350, 0.32),  # 32% on income up to $207,350\n",
    "    (518400, 0.35),  # 35% on income up to $518,400\n",
    "    (float('inf'), 0.37)  # 37% on income above $518,400\n",
    "]\n",
    "\n",
    "# Get user input for income\n",
    "income = float(input(\"Enter your taxable income: \"))\n",
    "\n",
    "# Calculate the income tax\n",
    "tax = 0\n",
    "for bracket, rate in tax_brackets:\n",
    "    if income <= 0:\n",
    "        break\n",
    "    if income < bracket:\n",
    "        tax += income * rate\n",
    "        break\n",
    "    else:\n",
    "        tax += bracket * rate\n",
    "        income -= bracket\n",
    "\n",
    "# Display the calculated income tax\n",
    "print(f\"Your income tax is: ${tax:.2f}\")\n"
   ]
  },
  {
   "cell_type": "markdown",
   "id": "e18b9ebd-3a0e-4489-a614-cdf0acf54fec",
   "metadata": {},
   "source": [
    "q.22 Write a program that simulates a rock-paper-scissors game against the computer."
   ]
  },
  {
   "cell_type": "code",
   "execution_count": 22,
   "id": "16a99435-71d3-4510-87e7-a1fa559f8611",
   "metadata": {},
   "outputs": [
    {
     "name": "stdout",
     "output_type": "stream",
     "text": [
      "Welcome to Rock-Paper-Scissors!\n",
      "Choose one of the following:\n",
      "1. Rock\n",
      "2. Paper\n",
      "3. Scissors\n"
     ]
    },
    {
     "name": "stdin",
     "output_type": "stream",
     "text": [
      "Enter your choice (1/2/3):  2\n"
     ]
    },
    {
     "name": "stdout",
     "output_type": "stream",
     "text": [
      "You chose: paper\n",
      "Computer chose: paper\n",
      "It's a tie!\n"
     ]
    }
   ],
   "source": [
    "import random\n",
    "\n",
    "# Function to get the computer's choice\n",
    "def computer_choice():\n",
    "    choices = [\"rock\", \"paper\", \"scissors\"]\n",
    "    return random.choice(choices)\n",
    "\n",
    "# Function to determine the winner\n",
    "def determine_winner(user_choice, comp_choice):\n",
    "    if user_choice == comp_choice:\n",
    "        return \"It's a tie!\"\n",
    "    elif (\n",
    "        (user_choice == \"rock\" and comp_choice == \"scissors\") or\n",
    "        (user_choice == \"paper\" and comp_choice == \"rock\") or\n",
    "        (user_choice == \"scissors\" and comp_choice == \"paper\")\n",
    "    ):\n",
    "        return \"You win!\"\n",
    "    else:\n",
    "        return \"Computer wins!\"\n",
    "\n",
    "# Display the game instructions\n",
    "print(\"Welcome to Rock-Paper-Scissors!\")\n",
    "print(\"Choose one of the following:\")\n",
    "print(\"1. Rock\")\n",
    "print(\"2. Paper\")\n",
    "print(\"3. Scissors\")\n",
    "\n",
    "# Get user's choice\n",
    "user_choice = input(\"Enter your choice (1/2/3): \")\n",
    "\n",
    "# Convert user's choice to the corresponding string\n",
    "choices_dict = {\"1\": \"rock\", \"2\": \"paper\", \"3\": \"scissors\"}\n",
    "user_choice_str = choices_dict.get(user_choice, None)\n",
    "\n",
    "# Check if user's choice is valid\n",
    "if user_choice_str is None:\n",
    "    print(\"Invalid choice. Please select a valid option.\")\n",
    "else:\n",
    "    # Get computer's choice\n",
    "    comp_choice_str = computer_choice()\n",
    "\n",
    "    # Display user and computer choices\n",
    "    print(f\"You chose: {user_choice_str}\")\n",
    "    print(f\"Computer chose: {comp_choice_str}\")\n",
    "\n",
    "    # Determine the winner and display the result\n",
    "    result = determine_winner(user_choice_str, comp_choice_str)\n",
    "    print(result)\n"
   ]
  },
  {
   "cell_type": "markdown",
   "id": "4f84cf16-9c5e-408c-ad23-a19ce53f1d17",
   "metadata": {},
   "source": [
    "q.23 Develop a program that generates a random password based on user preferences (length, complexity)."
   ]
  },
  {
   "cell_type": "code",
   "execution_count": 23,
   "id": "8d02dfa4-81f0-4c9b-8913-f0c299833719",
   "metadata": {},
   "outputs": [
    {
     "name": "stdin",
     "output_type": "stream",
     "text": [
      "Enter the password length:  29\n",
      "Include uppercase letters? (yes/no):  yes\n",
      "Include lowercase letters? (yes/no):  no\n",
      "Include digits? (yes/no):  yes\n",
      "Include special characters? (yes/no):  yes\n"
     ]
    },
    {
     "name": "stdout",
     "output_type": "stream",
     "text": [
      "Generated Password: P5C;/=\\,:4U/H\\=U,\\G$R@?9:Z`XE\n"
     ]
    }
   ],
   "source": [
    "import random\n",
    "import string\n",
    "\n",
    "# Function to generate a random password\n",
    "def generate_password(length, use_uppercase, use_lowercase, use_digits, use_special_chars):\n",
    "    # Define character sets based on user preferences\n",
    "    character_set = \"\"\n",
    "    if use_uppercase:\n",
    "        character_set += string.ascii_uppercase\n",
    "    if use_lowercase:\n",
    "        character_set += string.ascii_lowercase\n",
    "    if use_digits:\n",
    "        character_set += string.digits\n",
    "    if use_special_chars:\n",
    "        character_set += string.punctuation\n",
    "\n",
    "    # Check if at least one character set is selected\n",
    "    if not character_set:\n",
    "        return \"Please select at least one character set.\"\n",
    "\n",
    "    # Generate the random password\n",
    "    password = ''.join(random.choice(character_set) for _ in range(length))\n",
    "    return password\n",
    "\n",
    "# Get user preferences for password generation\n",
    "length = int(input(\"Enter the password length: \"))\n",
    "use_uppercase = input(\"Include uppercase letters? (yes/no): \").lower() == \"yes\"\n",
    "use_lowercase = input(\"Include lowercase letters? (yes/no): \").lower() == \"yes\"\n",
    "use_digits = input(\"Include digits? (yes/no): \").lower() == \"yes\"\n",
    "use_special_chars = input(\"Include special characters? (yes/no): \").lower() == \"yes\"\n",
    "\n",
    "# Generate and display the password\n",
    "password = generate_password(length, use_uppercase, use_lowercase, use_digits, use_special_chars)\n",
    "print(\"Generated Password:\", password)\n"
   ]
  },
  {
   "cell_type": "markdown",
   "id": "24ab5f5d-d31e-40a0-b5c9-ebc56995e46c",
   "metadata": {},
   "source": [
    "q.24 Create a program that implements a simple text-based adventure game with branching scenarios."
   ]
  },
  {
   "cell_type": "code",
   "execution_count": 24,
   "id": "8dd4edae-6a3e-4eda-ad6e-eb2f63e3fd50",
   "metadata": {},
   "outputs": [
    {
     "name": "stdout",
     "output_type": "stream",
     "text": [
      "Welcome to the Text Adventure Game!\n",
      "You find yourself in a dark forest.\n",
      "You see a path to the left and a cave entrance to the right.\n"
     ]
    },
    {
     "name": "stdin",
     "output_type": "stream",
     "text": [
      "Which way do you want to go? (left/right):  right\n"
     ]
    },
    {
     "name": "stdout",
     "output_type": "stream",
     "text": [
      "You enter the cave and encounter a dragon!\n",
      "You have been roasted. Game over.\n"
     ]
    },
    {
     "name": "stdin",
     "output_type": "stream",
     "text": [
      "Do you want to fight the dragon? (yes/no):  no\n"
     ]
    },
    {
     "name": "stdout",
     "output_type": "stream",
     "text": [
      "You choose not to fight the dragon and leave the cave.\n",
      "Thanks for playing the Text Adventure Game!\n"
     ]
    }
   ],
   "source": [
    "import time\n",
    "\n",
    "# Function to display messages with a slight delay\n",
    "def print_with_delay(text, delay=1):\n",
    "    print(text)\n",
    "    time.sleep(delay)\n",
    "\n",
    "# Introduction\n",
    "print_with_delay(\"Welcome to the Text Adventure Game!\")\n",
    "print_with_delay(\"You find yourself in a dark forest.\")\n",
    "print_with_delay(\"You see a path to the left and a cave entrance to the right.\")\n",
    "\n",
    "# Scenario 1: Choosing the path\n",
    "choice1 = input(\"Which way do you want to go? (left/right): \").lower()\n",
    "\n",
    "if choice1 == \"left\":\n",
    "    print_with_delay(\"You follow the path and discover a hidden treasure chest!\")\n",
    "    print_with_delay(\"Congratulations, you're rich!\")\n",
    "elif choice1 == \"right\":\n",
    "    print_with_delay(\"You enter the cave and encounter a dragon!\")\n",
    "    print_with_delay(\"You have been roasted. Game over.\")\n",
    "else:\n",
    "    print_with_delay(\"Invalid choice. You stand still and ponder your existence.\")\n",
    "\n",
    "# Scenario 2: After treasure\n",
    "if choice1 == \"left\":\n",
    "    choice2 = input(\"Do you want to open the treasure chest? (yes/no): \").lower()\n",
    "    if choice2 == \"yes\":\n",
    "        print_with_delay(\"You open the chest and find a magical amulet!\")\n",
    "        print_with_delay(\"You put it on and feel a surge of power.\")\n",
    "    else:\n",
    "        print_with_delay(\"You decide not to open the chest and continue exploring.\")\n",
    "\n",
    "# Scenario 3: After dragon encounter\n",
    "if choice1 == \"right\":\n",
    "    choice3 = input(\"Do you want to fight the dragon? (yes/no): \").lower()\n",
    "    if choice3 == \"yes\":\n",
    "        print_with_delay(\"You bravely engage the dragon in battle!\")\n",
    "        print_with_delay(\"After a fierce fight, you defeat the dragon and claim the cave as your lair.\")\n",
    "        print_with_delay(\"You are now the Dragon Lord!\")\n",
    "    else:\n",
    "        print_with_delay(\"You choose not to fight the dragon and leave the cave.\")\n",
    "\n",
    "# Conclusion\n",
    "print_with_delay(\"Thanks for playing the Text Adventure Game!\")\n"
   ]
  },
  {
   "cell_type": "markdown",
   "id": "3f0ac095-8120-4f00-8e8c-9bf72660e023",
   "metadata": {},
   "source": [
    "q.25 Build a program that solves a linear equation for x, considering different cases."
   ]
  },
  {
   "cell_type": "code",
   "execution_count": 25,
   "id": "18f7dbcc-75e2-40be-9133-b1a39c582ab4",
   "metadata": {},
   "outputs": [
    {
     "name": "stdin",
     "output_type": "stream",
     "text": [
      "Enter the coefficient 'a' (must be non-zero):  20\n",
      "Enter the coefficient 'b':  30\n"
     ]
    },
    {
     "name": "stdout",
     "output_type": "stream",
     "text": [
      "The solution for x is: -1.5\n"
     ]
    }
   ],
   "source": [
    "# Get user input for the coefficients 'a' and 'b'\n",
    "a = float(input(\"Enter the coefficient 'a' (must be non-zero): \"))\n",
    "b = float(input(\"Enter the coefficient 'b': \"))\n",
    "\n",
    "if a == 0:\n",
    "    if b == 0:\n",
    "        print(\"Infinite solutions. Any value of x will satisfy the equation.\")\n",
    "    else:\n",
    "        print(\"No solution. The equation is inconsistent.\")\n",
    "else:\n",
    "    x = -b / a\n",
    "    print(f\"The solution for x is: {x}\")\n"
   ]
  },
  {
   "cell_type": "markdown",
   "id": "2dbf4a54-2d8c-4240-b38d-3f8f6237d253",
   "metadata": {},
   "source": [
    "q.26 Write a program that simulates a basic quiz game with multiple-choice questions and scoring."
   ]
  },
  {
   "cell_type": "code",
   "execution_count": 26,
   "id": "c3e6430e-c462-4412-9ff0-6b95d618cae0",
   "metadata": {},
   "outputs": [
    {
     "name": "stdout",
     "output_type": "stream",
     "text": [
      "What is the capital of France?\n",
      "A. Paris\n",
      "B. London\n",
      "C. Berlin\n",
      "D. Madrid\n"
     ]
    },
    {
     "name": "stdin",
     "output_type": "stream",
     "text": [
      "Enter your answer (A/B/C/D):  a\n"
     ]
    },
    {
     "name": "stdout",
     "output_type": "stream",
     "text": [
      "Correct!\n",
      "\n",
      "Which planet is known as the 'Red Planet'?\n",
      "A. Earth\n",
      "B. Venus\n",
      "C. Mars\n",
      "D. Jupiter\n"
     ]
    },
    {
     "name": "stdin",
     "output_type": "stream",
     "text": [
      "Enter your answer (A/B/C/D):  c\n"
     ]
    },
    {
     "name": "stdout",
     "output_type": "stream",
     "text": [
      "Correct!\n",
      "\n",
      "What is the largest mammal in the world?\n",
      "A. Elephant\n",
      "B. Blue Whale\n",
      "C. Giraffe\n",
      "D. Rhino\n"
     ]
    },
    {
     "name": "stdin",
     "output_type": "stream",
     "text": [
      "Enter your answer (A/B/C/D):  b\n"
     ]
    },
    {
     "name": "stdout",
     "output_type": "stream",
     "text": [
      "Correct!\n",
      "\n",
      "Your final score is: 3/3\n"
     ]
    }
   ],
   "source": [
    "# Define a dictionary of questions, choices, and correct answers\n",
    "quiz = [\n",
    "    {\n",
    "        \"question\": \"What is the capital of France?\",\n",
    "        \"choices\": [\"A. Paris\", \"B. London\", \"C. Berlin\", \"D. Madrid\"],\n",
    "        \"correct_answer\": \"A\"\n",
    "    },\n",
    "    {\n",
    "        \"question\": \"Which planet is known as the 'Red Planet'?\",\n",
    "        \"choices\": [\"A. Earth\", \"B. Venus\", \"C. Mars\", \"D. Jupiter\"],\n",
    "        \"correct_answer\": \"C\"\n",
    "    },\n",
    "    {\n",
    "        \"question\": \"What is the largest mammal in the world?\",\n",
    "        \"choices\": [\"A. Elephant\", \"B. Blue Whale\", \"C. Giraffe\", \"D. Rhino\"],\n",
    "        \"correct_answer\": \"B\"\n",
    "    }\n",
    "]\n",
    "\n",
    "# Initialize the score\n",
    "score = 0\n",
    "\n",
    "# Function to display a question and choices, and get the user's answer\n",
    "def ask_question(question_data):\n",
    "    print(question_data[\"question\"])\n",
    "    for choice in question_data[\"choices\"]:\n",
    "        print(choice)\n",
    "    user_answer = input(\"Enter your answer (A/B/C/D): \").upper()\n",
    "    return user_answer\n",
    "\n",
    "# Loop through the quiz questions\n",
    "for question in quiz:\n",
    "    user_answer = ask_question(question)\n",
    "    if user_answer == question[\"correct_answer\"]:\n",
    "        print(\"Correct!\\n\")\n",
    "        score += 1\n",
    "    else:\n",
    "        print(f\"Wrong. The correct answer is {question['correct_answer']}.\\n\")\n",
    "\n",
    "# Display the final score\n",
    "print(f\"Your final score is: {score}/{len(quiz)}\")\n"
   ]
  },
  {
   "cell_type": "markdown",
   "id": "4c942bb2-43ee-4f7a-a14f-24c6d6051602",
   "metadata": {},
   "source": [
    "q.27 Develop a program that determines whether a given year is a prime number or not."
   ]
  },
  {
   "cell_type": "code",
   "execution_count": 27,
   "id": "d984f417-1b7c-4bff-8f07-d1f9d24f1063",
   "metadata": {},
   "outputs": [
    {
     "name": "stdin",
     "output_type": "stream",
     "text": [
      "Enter a year:  2022\n"
     ]
    },
    {
     "name": "stdout",
     "output_type": "stream",
     "text": [
      "2022 is not a prime year.\n"
     ]
    }
   ],
   "source": [
    "# Function to check if a number is prime\n",
    "def is_prime(year):\n",
    "    if year <= 1:\n",
    "        return False  # Years less than or equal to 1 are not prime\n",
    "\n",
    "    for i in range(2, int(year**0.5) + 1):\n",
    "        if year % i == 0:\n",
    "            return False  # Found a divisor other than 1 and the year itself\n",
    "    return True  # No divisors other than 1 and the year itself\n",
    "\n",
    "# Get user input for the year\n",
    "year = int(input(\"Enter a year: \"))\n",
    "\n",
    "# Check if the year is prime and display the result\n",
    "if is_prime(year):\n",
    "    print(f\"{year} is a prime year.\")\n",
    "else:\n",
    "    print(f\"{year} is not a prime year.\")\n"
   ]
  },
  {
   "cell_type": "markdown",
   "id": "4c14bd11-d8e8-4e46-9554-7f5f7304d332",
   "metadata": {},
   "source": [
    "q.28 Create a program that sorts three numbers in ascending order using conditional statements."
   ]
  },
  {
   "cell_type": "code",
   "execution_count": 28,
   "id": "d1f49ca0-d9fb-4cc4-90f3-11afdea80379",
   "metadata": {},
   "outputs": [
    {
     "name": "stdin",
     "output_type": "stream",
     "text": [
      "Enter the first number:  12\n",
      "Enter the second number:  15\n",
      "Enter the third number:  20\n"
     ]
    },
    {
     "name": "stdout",
     "output_type": "stream",
     "text": [
      "The numbers in ascending order are: 12.0, 15.0, 20.0\n"
     ]
    }
   ],
   "source": [
    "# Get user input for three numbers\n",
    "num1 = float(input(\"Enter the first number: \"))\n",
    "num2 = float(input(\"Enter the second number: \"))\n",
    "num3 = float(input(\"Enter the third number: \"))\n",
    "\n",
    "# Initialize variables for sorted numbers\n",
    "smaller = 0\n",
    "middle = 0\n",
    "larger = 0\n",
    "\n",
    "# Determine the smallest, middle, and largest numbers\n",
    "if num1 <= num2 and num1 <= num3:\n",
    "    smaller = num1\n",
    "    if num2 <= num3:\n",
    "        middle = num2\n",
    "        larger = num3\n",
    "    else:\n",
    "        middle = num3\n",
    "        larger = num2\n",
    "elif num2 <= num1 and num2 <= num3:\n",
    "    smaller = num2\n",
    "    if num1 <= num3:\n",
    "        middle = num1\n",
    "        larger = num3\n",
    "    else:\n",
    "        middle = num3\n",
    "        larger = num1\n",
    "else:\n",
    "    smaller = num3\n",
    "    if num1 <= num2:\n",
    "        middle = num1\n",
    "        larger = num2\n",
    "    else:\n",
    "        middle = num2\n",
    "        larger = num1\n",
    "\n",
    "# Display the sorted numbers in ascending order\n",
    "print(f\"The numbers in ascending order are: {smaller}, {middle}, {larger}\")\n"
   ]
  },
  {
   "cell_type": "markdown",
   "id": "7c713597-9411-4124-b60d-65398e8c96e2",
   "metadata": {},
   "source": [
    "q.29 Build a program that determines the roots of a quartic equation using numerical methods."
   ]
  },
  {
   "cell_type": "code",
   "execution_count": 29,
   "id": "373ebd7c-ebed-499d-8284-84bae6f8e2b1",
   "metadata": {},
   "outputs": [
    {
     "name": "stdout",
     "output_type": "stream",
     "text": [
      "Root 1: 0\n",
      "Root 2: 0\n",
      "Root 3: 1.00000000000000\n",
      "Root 4: 2.00000000000000\n"
     ]
    }
   ],
   "source": [
    "import sympy as sp\n",
    "\n",
    "# Define the variable\n",
    "x = sp.Symbol('x')\n",
    "\n",
    "# Define the quartic equation (you can modify this equation)\n",
    "equation = x**4 - 6*x**3 + 11*x**2 - 6*x\n",
    "\n",
    "# Find the roots using the Newton-Raphson method\n",
    "initial_guesses = [-1, 0, 1, 2]  # Initial guesses for roots\n",
    "tolerance = 1e-6  # Tolerance for convergence\n",
    "max_iterations = 100  # Maximum number of iterations\n",
    "\n",
    "roots = []\n",
    "\n",
    "for guess in initial_guesses:\n",
    "    root = sp.nsolve(equation, x, guess, tolerance=tolerance, max_steps=max_iterations)\n",
    "    roots.append(root)\n",
    "\n",
    "# Display the roots\n",
    "for i, root in enumerate(roots):\n",
    "    print(f\"Root {i+1}: {root}\")\n"
   ]
  },
  {
   "cell_type": "markdown",
   "id": "3b7d23d6-1ef7-4d0a-a7da-b8cfb60ca7ea",
   "metadata": {},
   "source": [
    "q.30 Write a program that calculates the BMI (Body Mass Index) and provides health recommendations based\n",
    "on the user's input."
   ]
  },
  {
   "cell_type": "code",
   "execution_count": 31,
   "id": "48387832-f698-471c-8994-34dab1e6d7ca",
   "metadata": {},
   "outputs": [
    {
     "name": "stdin",
     "output_type": "stream",
     "text": [
      "Enter your weight in kilograms:  75\n",
      "Enter your height in meters:  5.6\n"
     ]
    },
    {
     "name": "stdout",
     "output_type": "stream",
     "text": [
      "Your BMI is: 2.39\n",
      "You are underweight. You may need to gain some weight for better health.\n"
     ]
    }
   ],
   "source": [
    "# Function to calculate BMI\n",
    "def calculate_bmi(weight, height):\n",
    "    return weight / (height ** 2)\n",
    "\n",
    "# Function to provide health recommendations\n",
    "def get_recommendations(bmi):\n",
    "    if bmi < 18.5:\n",
    "        return \"You are underweight. You may need to gain some weight for better health.\"\n",
    "    elif 18.5 <= bmi < 24.9:\n",
    "        return \"You have a healthy weight. Keep up the good work!\"\n",
    "    elif 25 <= bmi < 29.9:\n",
    "        return \"You are overweight. Consider losing some weight for better health.\"\n",
    "    else:\n",
    "        return \"You are obese. It's important to consult a healthcare professional for guidance.\"\n",
    "\n",
    "# Get user input for weight (in kilograms) and height (in meters)\n",
    "weight = float(input(\"Enter your weight in kilograms: \"))\n",
    "height = float(input(\"Enter your height in meters: \"))\n",
    "\n",
    "# Calculate BMI\n",
    "bmi = calculate_bmi(weight, height)\n",
    "\n",
    "# Display BMI and health recommendations\n",
    "print(f\"Your BMI is: {bmi:.2f}\")\n",
    "recommendations = get_recommendations(bmi)\n",
    "print(recommendations)\n"
   ]
  },
  {
   "cell_type": "markdown",
   "id": "f1ef66ee-b54a-43d8-a354-f05973c46189",
   "metadata": {},
   "source": [
    "q.31 Create a program that validates a password based on complexity rules (length, characters, etc.)."
   ]
  },
  {
   "cell_type": "code",
   "execution_count": 32,
   "id": "ab25644e-c2e4-445f-a03e-ac3e3f373e7f",
   "metadata": {},
   "outputs": [
    {
     "name": "stdin",
     "output_type": "stream",
     "text": [
      "Enter your password:  SSSsss@29091993\n"
     ]
    },
    {
     "name": "stdout",
     "output_type": "stream",
     "text": [
      "Password is valid.\n"
     ]
    }
   ],
   "source": [
    "import re\n",
    "\n",
    "# Function to validate a password\n",
    "def is_valid_password(password):\n",
    "    # Define complexity rules\n",
    "    min_length = 8\n",
    "    has_lowercase = re.search(r'[a-z]', password)\n",
    "    has_uppercase = re.search(r'[A-Z]', password)\n",
    "    has_digit = re.search(r'\\d', password)\n",
    "    has_special_char = re.search(r'[!@#$%^&*()_+{}\\[\\]:;<>,.?~\\\\]', password)\n",
    "\n",
    "    # Check if all complexity rules are satisfied\n",
    "    if (\n",
    "        len(password) >= min_length and\n",
    "        has_lowercase and\n",
    "        has_uppercase and\n",
    "        has_digit and\n",
    "        has_special_char\n",
    "    ):\n",
    "        return True\n",
    "    else:\n",
    "        return False\n",
    "\n",
    "# Get user input for the password\n",
    "password = input(\"Enter your password: \")\n",
    "\n",
    "# Validate the password and display the result\n",
    "if is_valid_password(password):\n",
    "    print(\"Password is valid.\")\n",
    "else:\n",
    "    print(\"Password is not valid. Please ensure it meets the complexity requirements.\")\n"
   ]
  },
  {
   "cell_type": "markdown",
   "id": "e547609f-27ca-4595-9941-337486a84744",
   "metadata": {},
   "source": [
    "q.32 Develop a program that performs matrix addition and subtraction based on user input."
   ]
  },
  {
   "cell_type": "code",
   "execution_count": 2,
   "id": "4b6d536f-78cf-4a1b-a010-ecc073e14205",
   "metadata": {},
   "outputs": [
    {
     "name": "stdin",
     "output_type": "stream",
     "text": [
      "Enter the number of rows for the matrices:  2\n",
      "Enter the number of columns for the matrices:  4\n"
     ]
    },
    {
     "name": "stdout",
     "output_type": "stream",
     "text": [
      "Enter the first matrix:\n",
      "Enter the elements for a 2x4 matrix:\n"
     ]
    },
    {
     "name": "stdin",
     "output_type": "stream",
     "text": [
      "Enter element at position (1,1):  8\n",
      "Enter element at position (1,2):  12\n",
      "Enter element at position (1,3):  15\n",
      "Enter element at position (1,4):  add\n"
     ]
    },
    {
     "name": "stdout",
     "output_type": "stream",
     "text": [
      "Invalid input. Please enter valid numeric values for matrix elements.\n"
     ]
    }
   ],
   "source": [
    "def input_matrix(rows, cols):\n",
    "    matrix = []\n",
    "    print(f\"Enter the elements for a {rows}x{cols} matrix:\")\n",
    "    for i in range(rows):\n",
    "        row = []\n",
    "        for j in range(cols):\n",
    "            element = float(input(f\"Enter element at position ({i+1},{j+1}): \"))\n",
    "            row.append(element)\n",
    "        matrix.append(row)\n",
    "    return matrix\n",
    "\n",
    "def print_matrix(matrix):\n",
    "    for row in matrix:\n",
    "        print(\" \".join(map(str, row)))\n",
    "\n",
    "def add_matrices(matrix1, matrix2):\n",
    "    if len(matrix1) != len(matrix2) or len(matrix1[0]) != len(matrix2[0]):\n",
    "        return None\n",
    "    result = []\n",
    "    for i in range(len(matrix1)):\n",
    "        row = []\n",
    "        for j in range(len(matrix1[0])):\n",
    "            row.append(matrix1[i][j] + matrix2[i][j])\n",
    "        result.append(row)\n",
    "    return result\n",
    "\n",
    "def subtract_matrices(matrix1, matrix2):\n",
    "    if len(matrix1) != len(matrix2) or len(matrix1[0]) != len(matrix2[0]):\n",
    "        return None\n",
    "    result = []\n",
    "    for i in range(len(matrix1)):\n",
    "        row = []\n",
    "        for j in range(len(matrix1[0])):\n",
    "            row.append(matrix1[i][j] - matrix2[i][j])\n",
    "        result.append(row)\n",
    "    return result\n",
    "\n",
    "def main():\n",
    "    try:\n",
    "        rows = int(input(\"Enter the number of rows for the matrices: \"))\n",
    "        cols = int(input(\"Enter the number of columns for the matrices: \"))\n",
    "\n",
    "        print(\"Enter the first matrix:\")\n",
    "        matrix1 = input_matrix(rows, cols)\n",
    "\n",
    "        print(\"Enter the second matrix:\")\n",
    "        matrix2 = input_matrix(rows, cols)\n",
    "\n",
    "        print(\"\\nMatrix 1:\")\n",
    "        print_matrix(matrix1)\n",
    "\n",
    "        print(\"\\nMatrix 2:\")\n",
    "        print_matrix(matrix2)\n",
    "\n",
    "        operation = input(\"\\nEnter 'add' for addition or 'subtract' for subtraction: \").strip().lower()\n",
    "\n",
    "        if operation == 'add':\n",
    "            result = add_matrices(matrix1, matrix2)\n",
    "        elif operation == 'subtract':\n",
    "            result = subtract_matrices(matrix1, matrix2)\n",
    "        else:\n",
    "            print(\"Invalid operation. Please enter 'add' or 'subtract'.\")\n",
    "            return\n",
    "\n",
    "        if result is None:\n",
    "            print(\"Matrix dimensions do not match for the selected operation.\")\n",
    "        else:\n",
    "            print(\"\\nResult:\")\n",
    "            print_matrix(result)\n",
    "\n",
    "    except ValueError:\n",
    "        print(\"Invalid input. Please enter valid numeric values for matrix elements.\")\n",
    "\n",
    "if __name__ == \"__main__\":\n",
    "    main()\n"
   ]
  },
  {
   "cell_type": "markdown",
   "id": "7d0d7cc7-2b24-4143-b104-e54a9266c5b2",
   "metadata": {},
   "source": [
    "q.33 Write a program that calculates the greatest common divisor (GCD) of two numbers using the Euclidean\n",
    "algorithm."
   ]
  },
  {
   "cell_type": "code",
   "execution_count": 4,
   "id": "3ee71026-f415-437b-8417-92524910ceee",
   "metadata": {},
   "outputs": [
    {
     "name": "stdin",
     "output_type": "stream",
     "text": [
      "Enter the first number:  12\n",
      "Enter the second number:  18\n"
     ]
    },
    {
     "name": "stdout",
     "output_type": "stream",
     "text": [
      "The GCD of 12 and 18 is 6\n"
     ]
    }
   ],
   "source": [
    "def euclidean_gcd(a, b):\n",
    "    while b:\n",
    "        a, b = b, a % b\n",
    "    return a\n",
    "\n",
    "def main():\n",
    "    try:\n",
    "        num1 = int(input(\"Enter the first number: \"))\n",
    "        num2 = int(input(\"Enter the second number: \"))\n",
    "\n",
    "        if num1 < 0 or num2 < 0:\n",
    "            print(\"Please enter positive integers.\")\n",
    "            return\n",
    "\n",
    "        gcd = euclidean_gcd(num1, num2)\n",
    "        print(f\"The GCD of {num1} and {num2} is {gcd}\")\n",
    "\n",
    "    except ValueError:\n",
    "        print(\"Invalid input. Please enter valid integers.\")\n",
    "\n",
    "if __name__ == \"__main__\":\n",
    "    main()\n"
   ]
  },
  {
   "cell_type": "markdown",
   "id": "c5f7299a-3c72-4d74-8e1e-bf268e0cb111",
   "metadata": {},
   "source": [
    "q.34 Build a program that performs matrix multiplication using nested loops and conditional statements."
   ]
  },
  {
   "cell_type": "code",
   "execution_count": 5,
   "id": "89880e2e-493a-46e0-8c10-8a0670aa9076",
   "metadata": {},
   "outputs": [
    {
     "name": "stdin",
     "output_type": "stream",
     "text": [
      "Enter the number of rows for the first matrix:  2\n",
      "Enter the number of columns for the first matrix:  3\n",
      "Enter the number of rows for the second matrix:  6\n",
      "Enter the number of columns for the second matrix:  5\n"
     ]
    },
    {
     "name": "stdout",
     "output_type": "stream",
     "text": [
      "Matrix multiplication is not possible. The number of columns in the first matrix must be equal to the number of rows in the second matrix.\n"
     ]
    }
   ],
   "source": [
    "def matrix_multiply(matrix1, matrix2):\n",
    "    # Check if matrices can be multiplied\n",
    "    if len(matrix1[0]) != len(matrix2):\n",
    "        return None\n",
    "\n",
    "    # Initialize the result matrix with zeros\n",
    "    result = [[0 for _ in range(len(matrix2[0]))] for _ in range(len(matrix1))]\n",
    "\n",
    "    # Perform matrix multiplication using nested loops\n",
    "    for i in range(len(matrix1)):\n",
    "        for j in range(len(matrix2[0])):\n",
    "            for k in range(len(matrix2)):\n",
    "                result[i][j] += matrix1[i][k] * matrix2[k][j]\n",
    "\n",
    "    return result\n",
    "\n",
    "def input_matrix(rows, cols):\n",
    "    matrix = []\n",
    "    print(f\"Enter the elements for a {rows}x{cols} matrix:\")\n",
    "    for i in range(rows):\n",
    "        row = []\n",
    "        for j in range(cols):\n",
    "            element = float(input(f\"Enter element at position ({i+1},{j+1}): \"))\n",
    "            row.append(element)\n",
    "        matrix.append(row)\n",
    "    return matrix\n",
    "\n",
    "def print_matrix(matrix):\n",
    "    for row in matrix:\n",
    "        print(\" \".join(map(str, row)))\n",
    "\n",
    "def main():\n",
    "    try:\n",
    "        rows1 = int(input(\"Enter the number of rows for the first matrix: \"))\n",
    "        cols1 = int(input(\"Enter the number of columns for the first matrix: \"))\n",
    "        rows2 = int(input(\"Enter the number of rows for the second matrix: \"))\n",
    "        cols2 = int(input(\"Enter the number of columns for the second matrix: \"))\n",
    "\n",
    "        if cols1 != rows2:\n",
    "            print(\"Matrix multiplication is not possible. The number of columns in the first matrix must be equal to the number of rows in the second matrix.\")\n",
    "            return\n",
    "\n",
    "        print(\"Enter the first matrix:\")\n",
    "        matrix1 = input_matrix(rows1, cols1)\n",
    "\n",
    "        print(\"Enter the second matrix:\")\n",
    "        matrix2 = input_matrix(rows2, cols2)\n",
    "\n",
    "        print(\"\\nMatrix 1:\")\n",
    "        print_matrix(matrix1)\n",
    "\n",
    "        print(\"\\nMatrix 2:\")\n",
    "        print_matrix(matrix2)\n",
    "\n",
    "        result = matrix_multiply(matrix1, matrix2)\n",
    "\n",
    "        if result is None:\n",
    "            print(\"Matrix multiplication is not possible. The number of columns in the first matrix must be equal to the number of rows in the second matrix.\")\n",
    "        else:\n",
    "            print(\"\\nResult:\")\n",
    "            print_matrix(result)\n",
    "\n",
    "    except ValueError:\n",
    "        print(\"Invalid input. Please enter valid numeric values for matrix elements.\")\n",
    "\n",
    "if __name__ == \"__main__\":\n",
    "    main()\n"
   ]
  },
  {
   "cell_type": "markdown",
   "id": "92e04ad4-e9ce-48de-a9d6-83e2a10933e3",
   "metadata": {},
   "source": [
    "q.35 Create a program that simulates a basic text-based tic-tac-toe game against the computer."
   ]
  },
  {
   "cell_type": "code",
   "execution_count": null,
   "id": "97f750f2-42d7-47d5-9ecc-143d562a423b",
   "metadata": {},
   "outputs": [
    {
     "name": "stdout",
     "output_type": "stream",
     "text": [
      "Welcome to Tic-Tac-Toe!\n",
      "  |   |  \n",
      "---------\n",
      "  |   |  \n",
      "---------\n",
      "  |   |  \n",
      "---------\n"
     ]
    },
    {
     "name": "stdin",
     "output_type": "stream",
     "text": [
      "Enter your move (row and column, e.g., 1 2):  2 2\n"
     ]
    },
    {
     "name": "stdout",
     "output_type": "stream",
     "text": [
      "  |   |  \n",
      "---------\n",
      "  | X |  \n",
      "---------\n",
      "  |   |  \n",
      "---------\n",
      "Computer is making its move...\n",
      "  | O |  \n",
      "---------\n",
      "  | X |  \n",
      "---------\n",
      "  |   |  \n",
      "---------\n"
     ]
    },
    {
     "name": "stdin",
     "output_type": "stream",
     "text": [
      "Enter your move (row and column, e.g., 1 2):  3 2\n"
     ]
    },
    {
     "name": "stdout",
     "output_type": "stream",
     "text": [
      "  | O |  \n",
      "---------\n",
      "  | X |  \n",
      "---------\n",
      "  | X |  \n",
      "---------\n",
      "Computer is making its move...\n",
      "Invalid move. That cell is already occupied.\n",
      "  | O |  \n",
      "---------\n",
      "  | X |  \n",
      "---------\n",
      "  | X |  \n",
      "---------\n",
      "Computer is making its move...\n",
      "  | O | O\n",
      "---------\n",
      "  | X |  \n",
      "---------\n",
      "  | X |  \n",
      "---------\n"
     ]
    }
   ],
   "source": [
    "import random\n",
    "\n",
    "def print_board(board):\n",
    "    for row in board:\n",
    "        print(\" | \".join(row))\n",
    "        print(\"-\" * 9)\n",
    "\n",
    "def check_winner(board, player):\n",
    "    for row in board:\n",
    "        if all(cell == player for cell in row):\n",
    "            return True\n",
    "    for col in range(3):\n",
    "        if all(row[col] == player for row in board):\n",
    "            return True\n",
    "    if all(board[i][i] == player for i in range(3)) or all(board[i][2 - i] == player for i in range(3)):\n",
    "        return True\n",
    "    return False\n",
    "\n",
    "def is_full(board):\n",
    "    return all(cell != \" \" for row in board for cell in row)\n",
    "\n",
    "def get_empty_cells(board):\n",
    "    empty_cells = [(i, j) for i in range(3) for j in range(3) if board[i][j] == \" \"]\n",
    "    return empty_cells\n",
    "\n",
    "def computer_move(board):\n",
    "    empty_cells = get_empty_cells(board)\n",
    "    return random.choice(empty_cells)\n",
    "\n",
    "def main():\n",
    "    board = [[\" \" for _ in range(3)] for _ in range(3)]\n",
    "    player = \"X\"\n",
    "    computer = \"O\"\n",
    "    current_turn = player\n",
    "\n",
    "    print(\"Welcome to Tic-Tac-Toe!\")\n",
    "\n",
    "    while True:\n",
    "        print_board(board)\n",
    "\n",
    "        if current_turn == player:\n",
    "            row, col = map(int, input(\"Enter your move (row and column, e.g., 1 2): \").split())\n",
    "        else:\n",
    "            print(\"Computer is making its move...\")\n",
    "            row, col = computer_move(board)\n",
    "\n",
    "        if board[row - 1][col - 1] != \" \":\n",
    "            print(\"Invalid move. That cell is already occupied.\")\n",
    "            continue\n",
    "\n",
    "        board[row - 1][col - 1] = current_turn\n",
    "\n",
    "        if check_winner(board, current_turn):\n",
    "            print_board(board)\n",
    "            print(f\"{current_turn} wins! Congratulations!\")\n",
    "            break\n",
    "        elif is_full(board):\n",
    "            print_board(board)\n",
    "            print(\"It's a tie!\")\n",
    "            break\n",
    "\n",
    "        current_turn = computer if current_turn == player else player\n",
    "\n",
    "if __name__ == \"__main__\":\n",
    "    main()\n"
   ]
  },
  {
   "cell_type": "markdown",
   "id": "0b334e21-4f53-4582-8967-17d6c24f7886",
   "metadata": {},
   "source": [
    "q.36 Write a program that generates Fibonacci numbers up to a specified term using iterative methods."
   ]
  },
  {
   "cell_type": "code",
   "execution_count": 1,
   "id": "51a2a396-0d02-4965-9108-96e05b0f2c5c",
   "metadata": {},
   "outputs": [
    {
     "name": "stdin",
     "output_type": "stream",
     "text": [
      "Enter the number of Fibonacci terms to generate:  23\n"
     ]
    },
    {
     "name": "stdout",
     "output_type": "stream",
     "text": [
      "Fibonacci sequence up to the 23 term(s): [0, 1, 1, 2, 3, 5, 8, 13, 21, 34, 55, 89, 144, 233, 377, 610, 987, 1597, 2584, 4181, 6765, 10946, 17711]\n"
     ]
    }
   ],
   "source": [
    "def generate_fibonacci(n):\n",
    "    fib_sequence = [0, 1]  # Initialize the sequence with the first two Fibonacci numbers\n",
    "\n",
    "    if n <= 0:\n",
    "        return []\n",
    "\n",
    "    elif n == 1:\n",
    "        return [0]\n",
    "\n",
    "    elif n == 2:\n",
    "        return fib_sequence\n",
    "\n",
    "    else:\n",
    "        while len(fib_sequence) < n:\n",
    "            next_num = fib_sequence[-1] + fib_sequence[-2]\n",
    "            fib_sequence.append(next_num)\n",
    "\n",
    "        return fib_sequence\n",
    "\n",
    "# Input the number of terms you want in the Fibonacci sequence\n",
    "n = int(input(\"Enter the number of Fibonacci terms to generate: \"))\n",
    "\n",
    "if n <= 0:\n",
    "    print(\"Please enter a positive integer.\")\n",
    "else:\n",
    "    fibonacci_sequence = generate_fibonacci(n)\n",
    "    print(\"Fibonacci sequence up to the\", n, \"term(s):\", fibonacci_sequence)\n"
   ]
  },
  {
   "cell_type": "markdown",
   "id": "64e77195-cee4-48ac-a3e5-39e7810657b1",
   "metadata": {},
   "source": [
    "q.37 Develop a program that calculates the nth term of the Fibonacci sequence using memoization."
   ]
  },
  {
   "cell_type": "code",
   "execution_count": 2,
   "id": "17333e5a-23e0-4259-906c-518bff031692",
   "metadata": {},
   "outputs": [
    {
     "name": "stdin",
     "output_type": "stream",
     "text": [
      "Enter the term (n) of the Fibonacci sequence to calculate:  29\n"
     ]
    },
    {
     "name": "stdout",
     "output_type": "stream",
     "text": [
      "The 29 th term of the Fibonacci sequence is: 514229\n"
     ]
    }
   ],
   "source": [
    "# Create a dictionary to store already calculated Fibonacci values\n",
    "fib_cache = {}\n",
    "\n",
    "def fibonacci_with_memoization(n):\n",
    "    if n in fib_cache:\n",
    "        return fib_cache[n]\n",
    "\n",
    "    if n <= 1:\n",
    "        fib_value = n\n",
    "    else:\n",
    "        fib_value = fibonacci_with_memoization(n - 1) + fibonacci_with_memoization(n - 2)\n",
    "\n",
    "    # Store the Fibonacci value in the cache before returning\n",
    "    fib_cache[n] = fib_value\n",
    "    return fib_value\n",
    "\n",
    "# Input the term (n) you want to calculate\n",
    "n = int(input(\"Enter the term (n) of the Fibonacci sequence to calculate: \"))\n",
    "\n",
    "if n < 0:\n",
    "    print(\"Please enter a non-negative integer.\")\n",
    "else:\n",
    "    fibonacci_result = fibonacci_with_memoization(n)\n",
    "    print(\"The\", n, \"th term of the Fibonacci sequence is:\", fibonacci_result)\n"
   ]
  },
  {
   "cell_type": "markdown",
   "id": "469c4a51-9953-4eb5-b041-44693c4af0dd",
   "metadata": {},
   "source": [
    "q.38 Create a program that generates a calendar for a given month and year using conditional statements."
   ]
  },
  {
   "cell_type": "code",
   "execution_count": 3,
   "id": "6689805a-655d-41fd-88c1-4e62fe7afdc6",
   "metadata": {},
   "outputs": [
    {
     "name": "stdin",
     "output_type": "stream",
     "text": [
      "Enter the year (e.g., 2023):  2023\n",
      "Enter the month (1-12):  9\n"
     ]
    },
    {
     "name": "stdout",
     "output_type": "stream",
     "text": [
      "\n",
      "Calendar for September 2023\n",
      "\n",
      "   September 2023\n",
      "Mo Tu We Th Fr Sa Su\n",
      "             1  2  3\n",
      " 4  5  6  7  8  9 10\n",
      "11 12 13 14 15 16 17\n",
      "18 19 20 21 22 23 24\n",
      "25 26 27 28 29 30\n",
      "\n"
     ]
    }
   ],
   "source": [
    "import calendar\n",
    "\n",
    "# Function to generate and display a calendar for a given month and year\n",
    "def generate_calendar(year, month):\n",
    "    cal = calendar.month(year, month)\n",
    "    print(\"\\nCalendar for {} {}\\n\".format(calendar.month_name[month], year))\n",
    "    print(cal)\n",
    "\n",
    "# Input year and month from the user\n",
    "year = int(input(\"Enter the year (e.g., 2023): \"))\n",
    "month = int(input(\"Enter the month (1-12): \"))\n",
    "\n",
    "# Check if the input is valid\n",
    "if 1 <= month <= 12:\n",
    "    generate_calendar(year, month)\n",
    "else:\n",
    "    print(\"Invalid month. Please enter a month between 1 and 12.\")\n"
   ]
  },
  {
   "cell_type": "markdown",
   "id": "a8c7d904-f502-4de4-a965-809140d888c1",
   "metadata": {},
   "source": [
    "q.39 Build a program that simulates a basic text-based blackjack game against the computer."
   ]
  },
  {
   "cell_type": "code",
   "execution_count": 4,
   "id": "e809cf03-fd0d-4a69-bbd7-9d7510fb2b02",
   "metadata": {},
   "outputs": [
    {
     "name": "stdout",
     "output_type": "stream",
     "text": [
      "\n",
      "Player's Hand:\n",
      "Three of Hearts\n",
      "Three of Clubs\n"
     ]
    },
    {
     "ename": "ValueError",
     "evalue": "invalid literal for int() with base 10: 'Three'",
     "output_type": "error",
     "traceback": [
      "\u001b[0;31m---------------------------------------------------------------------------\u001b[0m",
      "\u001b[0;31mValueError\u001b[0m                                Traceback (most recent call last)",
      "Cell \u001b[0;32mIn[4], line 44\u001b[0m\n\u001b[1;32m     42\u001b[0m \u001b[38;5;28mprint\u001b[39m(\u001b[38;5;124m\"\u001b[39m\u001b[38;5;130;01m\\n\u001b[39;00m\u001b[38;5;124mPlayer\u001b[39m\u001b[38;5;124m'\u001b[39m\u001b[38;5;124ms Hand:\u001b[39m\u001b[38;5;124m\"\u001b[39m)\n\u001b[1;32m     43\u001b[0m display_hand(player_hand)\n\u001b[0;32m---> 44\u001b[0m player_hand_value \u001b[38;5;241m=\u001b[39m \u001b[43mcalculate_hand_value\u001b[49m\u001b[43m(\u001b[49m\u001b[43mplayer_hand\u001b[49m\u001b[43m)\u001b[49m\n\u001b[1;32m     45\u001b[0m \u001b[38;5;28mprint\u001b[39m(\u001b[38;5;124mf\u001b[39m\u001b[38;5;124m\"\u001b[39m\u001b[38;5;124mTotal Value: \u001b[39m\u001b[38;5;132;01m{\u001b[39;00mplayer_hand_value\u001b[38;5;132;01m}\u001b[39;00m\u001b[38;5;124m\"\u001b[39m)\n\u001b[1;32m     47\u001b[0m \u001b[38;5;66;03m# Check for player blackjack or bust\u001b[39;00m\n",
      "Cell \u001b[0;32mIn[4], line 19\u001b[0m, in \u001b[0;36mcalculate_hand_value\u001b[0;34m(hand)\u001b[0m\n\u001b[1;32m     17\u001b[0m         num_aces \u001b[38;5;241m+\u001b[39m\u001b[38;5;241m=\u001b[39m \u001b[38;5;241m1\u001b[39m\n\u001b[1;32m     18\u001b[0m     \u001b[38;5;28;01melse\u001b[39;00m:\n\u001b[0;32m---> 19\u001b[0m         value \u001b[38;5;241m+\u001b[39m\u001b[38;5;241m=\u001b[39m \u001b[38;5;28;43mint\u001b[39;49m\u001b[43m(\u001b[49m\u001b[43mcard\u001b[49m\u001b[43m[\u001b[49m\u001b[38;5;124;43m'\u001b[39;49m\u001b[38;5;124;43mrank\u001b[39;49m\u001b[38;5;124;43m'\u001b[39;49m\u001b[43m]\u001b[49m\u001b[43m)\u001b[49m\n\u001b[1;32m     21\u001b[0m \u001b[38;5;66;03m# Handle Aces\u001b[39;00m\n\u001b[1;32m     22\u001b[0m \u001b[38;5;28;01mwhile\u001b[39;00m value \u001b[38;5;241m>\u001b[39m \u001b[38;5;241m21\u001b[39m \u001b[38;5;129;01mand\u001b[39;00m num_aces \u001b[38;5;241m>\u001b[39m \u001b[38;5;241m0\u001b[39m:\n",
      "\u001b[0;31mValueError\u001b[0m: invalid literal for int() with base 10: 'Three'"
     ]
    }
   ],
   "source": [
    "import random\n",
    "\n",
    "# Initialize the deck of cards\n",
    "suits = ['Hearts', 'Diamonds', 'Clubs', 'Spades']\n",
    "ranks = ['Two', 'Three', 'Four', 'Five', 'Six', 'Seven', 'Eight', 'Nine', 'Ten', 'Jack', 'Queen', 'King', 'Ace']\n",
    "deck = [{'rank': rank, 'suit': suit} for rank in ranks for suit in suits]\n",
    "\n",
    "# Function to calculate the total value of a hand\n",
    "def calculate_hand_value(hand):\n",
    "    value = 0\n",
    "    num_aces = 0\n",
    "    for card in hand:\n",
    "        if card['rank'] in ['Jack', 'Queen', 'King']:\n",
    "            value += 10\n",
    "        elif card['rank'] == 'Ace':\n",
    "            value += 11\n",
    "            num_aces += 1\n",
    "        else:\n",
    "            value += int(card['rank'])\n",
    "    \n",
    "    # Handle Aces\n",
    "    while value > 21 and num_aces > 0:\n",
    "        value -= 10\n",
    "        num_aces -= 1\n",
    "\n",
    "    return value\n",
    "\n",
    "# Function to display a player's hand\n",
    "def display_hand(hand):\n",
    "    for card in hand:\n",
    "        print(f\"{card['rank']} of {card['suit']}\")\n",
    "\n",
    "# Shuffle the deck\n",
    "random.shuffle(deck)\n",
    "\n",
    "# Deal two cards to the player and the computer\n",
    "player_hand = [deck.pop(), deck.pop()]\n",
    "computer_hand = [deck.pop(), deck.pop()]\n",
    "\n",
    "# Main game loop\n",
    "while True:\n",
    "    print(\"\\nPlayer's Hand:\")\n",
    "    display_hand(player_hand)\n",
    "    player_hand_value = calculate_hand_value(player_hand)\n",
    "    print(f\"Total Value: {player_hand_value}\")\n",
    "\n",
    "    # Check for player blackjack or bust\n",
    "    if player_hand_value == 21:\n",
    "        print(\"Blackjack! Player wins!\")\n",
    "        break\n",
    "    elif player_hand_value > 21:\n",
    "        print(\"Bust! Player loses!\")\n",
    "        break\n",
    "\n",
    "    # Ask the player to hit or stand\n",
    "    choice = input(\"\\nDo you want to (H)it or (S)tand? \").strip().lower()\n",
    "\n",
    "    if choice == 'h':\n",
    "        player_hand.append(deck.pop())\n",
    "    elif choice == 's':\n",
    "        while calculate_hand_value(computer_hand) < 17:\n",
    "            computer_hand.append(deck.pop())\n",
    "        \n",
    "        print(\"\\nComputer's Hand:\")\n",
    "        display_hand(computer_hand)\n",
    "        computer_hand_value = calculate_hand_value(computer_hand)\n",
    "        print(f\"Total Value: {computer_hand_value}\")\n",
    "\n",
    "        # Determine the winner\n",
    "        if computer_hand_value > 21:\n",
    "            print(\"Computer Busts! Player wins!\")\n",
    "        elif computer_hand_value >= player_hand_value:\n",
    "            print(\"Computer wins!\")\n",
    "        else:\n",
    "            print(\"Player wins!\")\n",
    "        \n",
    "        break\n",
    "    else:\n",
    "        print(\"Invalid choice. Please enter 'H' or 'S'.\")\n",
    "\n",
    "# End of the game\n",
    "print(\"\\nThanks for playing!\")\n"
   ]
  },
  {
   "cell_type": "markdown",
   "id": "6e8feee0-09c9-424a-8681-8542e94f656e",
   "metadata": {},
   "source": [
    "q.40 Write a program that generates the prime factors of a given number using trial division."
   ]
  },
  {
   "cell_type": "code",
   "execution_count": 5,
   "id": "62354793-17e7-4cc2-9f69-a45ec1733b4f",
   "metadata": {},
   "outputs": [
    {
     "name": "stdin",
     "output_type": "stream",
     "text": [
      "Enter a number:  29\n"
     ]
    },
    {
     "name": "stdout",
     "output_type": "stream",
     "text": [
      "Prime factors of 29 are: [29]\n"
     ]
    }
   ],
   "source": [
    "def prime_factors(n):\n",
    "    factors = []\n",
    "    # Divide by 2 until it's odd\n",
    "    while n % 2 == 0:\n",
    "        factors.append(2)\n",
    "        n = n // 2\n",
    "    \n",
    "    # Try dividing by odd numbers starting from 3\n",
    "    for i in range(3, int(n**0.5) + 1, 2):\n",
    "        while n % i == 0:\n",
    "            factors.append(i)\n",
    "            n = n // i\n",
    "    \n",
    "    # If n is a prime greater than 2, add it to the factors list\n",
    "    if n > 2:\n",
    "        factors.append(n)\n",
    "    \n",
    "    return factors\n",
    "\n",
    "# Input from the user\n",
    "try:\n",
    "    num = int(input(\"Enter a number: \"))\n",
    "    if num < 2:\n",
    "        print(\"Prime factors are not defined for numbers less than 2.\")\n",
    "    else:\n",
    "        factors = prime_factors(num)\n",
    "        print(f\"Prime factors of {num} are: {factors}\")\n",
    "except ValueError:\n",
    "    print(\"Invalid input. Please enter a valid integer.\")\n"
   ]
  },
  {
   "cell_type": "markdown",
   "id": "679703c7-d96c-48dd-b6e0-4077ad72f73e",
   "metadata": {},
   "source": [
    "COMPLETE CONTROL FLOW ASSIGNMENT "
   ]
  }
 ],
 "metadata": {
  "kernelspec": {
   "display_name": "Python 3 (ipykernel)",
   "language": "python",
   "name": "python3"
  },
  "language_info": {
   "codemirror_mode": {
    "name": "ipython",
    "version": 3
   },
   "file_extension": ".py",
   "mimetype": "text/x-python",
   "name": "python",
   "nbconvert_exporter": "python",
   "pygments_lexer": "ipython3",
   "version": "3.10.8"
  }
 },
 "nbformat": 4,
 "nbformat_minor": 5
}
